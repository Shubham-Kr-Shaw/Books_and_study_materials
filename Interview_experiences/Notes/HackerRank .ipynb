{
 "cells": [
  {
   "cell_type": "code",
   "execution_count": 1,
   "id": "fbce376c",
   "metadata": {},
   "outputs": [],
   "source": [
    "s = [1, 2, 1, 3, 2]\n",
    "d = 3\n",
    "m = 2"
   ]
  },
  {
   "cell_type": "code",
   "execution_count": 2,
   "id": "fb15c2da",
   "metadata": {},
   "outputs": [],
   "source": [
    "s=[2, 5 ,1 ,3 ,4 ,4, 3, 5, 1, 1, 2, 1, 4, 1, 3, 3, 4, 2, 1]\n",
    "d=18\n",
    "m=7"
   ]
  },
  {
   "cell_type": "code",
   "execution_count": 10,
   "id": "8c8ff825",
   "metadata": {},
   "outputs": [
    {
     "data": {
      "text/plain": [
       "19"
      ]
     },
     "execution_count": 10,
     "metadata": {},
     "output_type": "execute_result"
    }
   ],
   "source": [
    "len(s)"
   ]
  },
  {
   "cell_type": "code",
   "execution_count": 13,
   "id": "36f39708",
   "metadata": {},
   "outputs": [
    {
     "ename": "SyntaxError",
     "evalue": "'return' outside function (2717112550.py, line 3)",
     "output_type": "error",
     "traceback": [
      "\u001b[0;36m  Cell \u001b[0;32mIn[13], line 3\u001b[0;36m\u001b[0m\n\u001b[0;31m    return 1\u001b[0m\n\u001b[0m    ^\u001b[0m\n\u001b[0;31mSyntaxError\u001b[0m\u001b[0;31m:\u001b[0m 'return' outside function\n"
     ]
    }
   ],
   "source": [
    "count = 0\n",
    "if len(s) == 1:\n",
    "    return 1\n",
    "else:\n",
    "    for i in range(0, len(s)-m+1):\n",
    "        if sum(s[i:i+m]) == d:\n",
    "            count +=1\n",
    "    return count"
   ]
  },
  {
   "cell_type": "code",
   "execution_count": null,
   "id": "957d8bf0",
   "metadata": {},
   "outputs": [],
   "source": []
  },
  {
   "cell_type": "code",
   "execution_count": null,
   "id": "5998b6d7",
   "metadata": {},
   "outputs": [],
   "source": []
  },
  {
   "cell_type": "code",
   "execution_count": 5,
   "id": "bd3dd5dd",
   "metadata": {},
   "outputs": [
    {
     "name": "stdout",
     "output_type": "stream",
     "text": [
      "(1, 2, 2, 3, 4, 4, 4)\n",
      "(1, 1, 1, 2, 3, 3, 3)\n",
      "(1, 2, 2, 4, 4, 4, 5)\n",
      "(1, 4, 4, 4, 4, 5, 5)\n",
      "(2, 2, 3, 3, 3, 3, 5)\n",
      "(1, 1, 1, 1, 2, 4, 5)\n",
      "(1, 3, 3, 3, 4, 5, 5)\n",
      "(1, 1, 2, 2, 2, 3, 3)\n",
      "(2, 3, 3, 3, 4, 4, 5)\n",
      "(2, 2, 2, 3, 3, 3, 4)\n",
      "(2, 2, 3, 3, 3, 5, 5)\n",
      "(1, 1, 3, 3, 4, 4, 5)\n",
      "(1, 1, 2, 2, 2, 4, 4)\n",
      "(1, 1, 1, 1, 1, 2, 5)\n",
      "(2, 2, 2, 3, 4, 4, 5)\n",
      "(1, 2, 3, 3, 3, 4, 4)\n",
      "(1, 1, 2, 2, 2, 3, 5)\n",
      "(1, 2, 4, 4, 4, 5, 5)\n",
      "(2, 2, 2, 3, 3, 4, 5)\n",
      "(1, 1, 1, 1, 1, 4, 5)\n",
      "(3, 3, 3, 3, 4, 4, 4)\n",
      "(1, 1, 2, 3, 3, 3, 3)\n",
      "(1, 1, 1, 1, 4, 4, 4)\n",
      "(1, 1, 2, 2, 2, 5, 5)\n",
      "(1, 1, 1, 3, 3, 4, 4)\n",
      "(2, 2, 2, 4, 4, 5, 5)\n",
      "(1, 1, 1, 1, 2, 2, 3)\n",
      "(1, 1, 1, 1, 3, 4, 5)\n",
      "(1, 1, 2, 3, 3, 4, 4)\n",
      "(1, 1, 1, 2, 4, 4, 4)\n",
      "(1, 2, 2, 2, 3, 3, 3)\n",
      "(1, 1, 2, 3, 4, 4, 4)\n",
      "(1, 2, 3, 3, 4, 4, 5)\n",
      "(1, 2, 3, 4, 4, 4, 4)\n",
      "(1, 1, 2, 2, 3, 4, 4)\n",
      "(2, 2, 2, 3, 4, 5, 5)\n",
      "(1, 1, 2, 3, 3, 3, 5)\n",
      "(3, 3, 4, 4, 4, 5, 5)\n",
      "(1, 2, 2, 3, 3, 4, 4)\n",
      "(1, 1, 1, 2, 2, 3, 3)\n",
      "(1, 1, 4, 4, 4, 4, 5)\n",
      "(2, 4, 4, 4, 4, 5, 5)\n",
      "(1, 1, 1, 3, 3, 5, 5)\n",
      "(2, 3, 3, 3, 3, 4, 5)\n",
      "(2, 2, 3, 4, 4, 4, 5)\n",
      "(1, 1, 1, 3, 4, 4, 4)\n",
      "(1, 1, 2, 3, 3, 5, 5)\n",
      "(1, 1, 3, 3, 3, 3, 5)\n",
      "(1, 2, 2, 3, 3, 3, 5)\n",
      "(1, 1, 1, 2, 2, 2, 4)\n",
      "(1, 1, 1, 2, 4, 5, 5)\n",
      "(1, 1, 2, 2, 4, 5, 5)\n",
      "(2, 2, 4, 4, 4, 5, 5)\n",
      "(1, 2, 2, 2, 3, 4, 4)\n",
      "(1, 1, 1, 1, 2, 3, 3)\n",
      "(1, 2, 2, 3, 4, 5, 5)\n",
      "(1, 2, 3, 3, 4, 5, 5)\n",
      "(1, 1, 1, 2, 3, 4, 4)\n",
      "(1, 1, 2, 2, 3, 5, 5)\n",
      "(1, 1, 1, 1, 1, 2, 2)\n",
      "(1, 1, 1, 2, 2, 3, 5)\n",
      "(1, 2, 2, 3, 3, 5, 5)\n",
      "(2, 2, 3, 3, 4, 4, 5)\n",
      "(1, 1, 1, 2, 2, 4, 4)\n",
      "(1, 1, 1, 1, 1, 1, 4)\n",
      "(2, 2, 3, 3, 3, 3, 4)\n",
      "(1, 1, 2, 4, 4, 4, 5)\n",
      "(1, 3, 4, 4, 4, 4, 5)\n",
      "(1, 1, 1, 3, 4, 5, 5)\n",
      "(1, 1, 1, 2, 3, 3, 5)\n",
      "(1, 2, 2, 2, 4, 4, 5)\n",
      "(2, 3, 3, 3, 4, 4, 4)\n",
      "(1, 1, 1, 4, 4, 4, 4)\n",
      "(1, 1, 1, 2, 2, 5, 5)\n",
      "(2, 3, 3, 4, 4, 4, 5)\n",
      "(1, 3, 3, 3, 3, 4, 5)\n",
      "(1, 1, 3, 4, 4, 4, 5)\n",
      "(1, 1, 1, 1, 2, 3, 5)\n",
      "(1, 1, 3, 3, 4, 4, 4)\n",
      "(1, 1, 1, 2, 3, 5, 5)\n",
      "(1, 1, 1, 4, 4, 5, 5)\n",
      "(1, 1, 1, 1, 1, 2, 4)\n",
      "(1, 1, 1, 1, 1, 3, 3)\n",
      "(1, 2, 3, 3, 3, 5, 5)\n",
      "(2, 2, 2, 4, 4, 4, 4)\n",
      "(1, 1, 1, 1, 3, 3, 4)\n",
      "(2, 2, 3, 3, 3, 4, 5)\n",
      "(1, 1, 2, 2, 2, 3, 4)\n",
      "(2, 3, 3, 3, 4, 5, 5)\n",
      "(3, 3, 3, 3, 4, 5, 5)\n",
      "(1, 1, 1, 1, 1, 4, 4)\n",
      "(1, 1, 2, 2, 3, 3, 3)\n",
      "(1, 1, 3, 3, 4, 5, 5)\n",
      "(1, 2, 4, 4, 4, 4, 5)\n",
      "(1, 3, 3, 3, 4, 4, 4)\n",
      "(1, 1, 1, 1, 1, 3, 5)\n",
      "(1, 1, 3, 3, 3, 4, 4)\n",
      "(2, 3, 4, 4, 4, 4, 5)\n",
      "(1, 1, 1, 1, 3, 4, 4)\n",
      "(1, 1, 1, 1, 2, 2, 5)\n",
      "(1, 2, 3, 4, 4, 5, 5)\n",
      "(1, 1, 1, 3, 3, 3, 4)\n",
      "(3, 3, 3, 4, 4, 4, 5)\n",
      "(1, 2, 3, 3, 4, 4, 4)\n",
      "(1, 1, 2, 2, 3, 3, 5)\n",
      "(1, 1, 2, 3, 3, 3, 4)\n",
      "(1, 1, 1, 1, 4, 4, 5)\n",
      "(1, 2, 2, 2, 3, 3, 5)\n",
      "(1, 1, 1, 3, 3, 4, 5)\n",
      "(1, 3, 3, 4, 4, 4, 4)\n",
      "(1, 1, 3, 3, 3, 5, 5)\n",
      "(2, 2, 3, 4, 4, 4, 4)\n",
      "(1, 2, 2, 4, 4, 4, 4)\n",
      "(3, 3, 4, 4, 4, 4, 5)\n",
      "(1, 2, 2, 2, 3, 5, 5)\n",
      "(1, 2, 2, 3, 3, 3, 4)\n",
      "(1, 1, 1, 2, 2, 2, 3)\n",
      "(1, 1, 1, 1, 2, 4, 4)\n",
      "(2, 2, 2, 3, 3, 3, 3)\n",
      "(1, 1, 2, 3, 4, 4, 5)\n",
      "(2, 3, 4, 4, 4, 5, 5)\n",
      "(1, 3, 3, 4, 4, 5, 5)\n",
      "(3, 3, 3, 4, 4, 5, 5)\n",
      "(1, 1, 2, 2, 3, 4, 5)\n",
      "(1, 2, 2, 4, 4, 5, 5)\n",
      "(1, 1, 1, 1, 2, 5, 5)\n",
      "(1, 2, 3, 3, 3, 3, 5)\n",
      "(1, 1, 1, 1, 1, 1, 3)\n",
      "(1, 1, 2, 2, 4, 4, 5)\n",
      "(2, 2, 4, 4, 4, 4, 5)\n",
      "(2, 3, 3, 3, 3, 5, 5)\n",
      "(1, 1, 2, 4, 4, 4, 4)\n",
      "(1, 2, 2, 3, 4, 4, 5)\n",
      "(2, 2, 3, 4, 4, 5, 5)\n",
      "(1, 1, 1, 2, 3, 3, 4)\n",
      "(1, 1, 1, 3, 4, 4, 5)\n",
      "(1, 1, 2, 4, 4, 5, 5)\n",
      "(1, 1, 1, 2, 2, 2, 5)\n",
      "(2, 2, 2, 3, 4, 4, 4)\n",
      "(2, 3, 3, 4, 4, 4, 4)\n",
      "(1, 3, 3, 3, 3, 4, 4)\n",
      "(2, 2, 2, 3, 3, 3, 5)\n",
      "(1, 1, 3, 4, 4, 4, 4)\n",
      "(2, 2, 2, 3, 3, 4, 4)\n",
      "(1, 1, 1, 2, 3, 4, 5)\n",
      "(1, 3, 3, 3, 3, 5, 5)\n",
      "(1, 1, 1, 1, 1, 1, 5)\n",
      "(1, 1, 1, 2, 2, 4, 5)\n",
      "(1, 1, 2, 2, 2, 4, 5)\n",
      "(1, 1, 1, 1, 3, 3, 3)\n",
      "(2, 2, 2, 3, 3, 5, 5)\n",
      "(1, 1, 1, 1, 1, 5, 5)\n",
      "(2, 2, 3, 3, 3, 4, 4)\n",
      "(1, 1, 1, 1, 2, 2, 2)\n",
      "(1, 1, 1, 4, 4, 4, 5)\n",
      "(1, 2, 3, 3, 3, 4, 5)\n",
      "(2, 3, 3, 4, 4, 5, 5)\n",
      "(1, 1, 3, 4, 4, 5, 5)\n",
      "(1, 1, 1, 1, 3, 5, 5)\n",
      "(3, 3, 3, 3, 4, 4, 5)\n",
      "(2, 2, 2, 4, 4, 4, 5)\n",
      "(1, 1, 1, 1, 1, 3, 4)\n",
      "(1, 1, 1, 1, 3, 3, 5)\n",
      "(2, 3, 3, 3, 3, 4, 4)\n",
      "(1, 1, 1, 1, 2, 2, 4)\n",
      "(1, 1, 1, 3, 3, 3, 3)\n",
      "(1, 1, 2, 3, 3, 4, 5)\n",
      "(1, 1, 3, 3, 3, 3, 4)\n",
      "(3, 3, 3, 4, 4, 4, 4)\n",
      "(1, 1, 1, 2, 4, 4, 5)\n",
      "(1, 1, 4, 4, 4, 5, 5)\n",
      "(1, 1, 2, 2, 3, 3, 4)\n",
      "(1, 2, 2, 2, 3, 3, 4)\n",
      "(1, 3, 3, 3, 4, 4, 5)\n",
      "(1, 2, 3, 4, 4, 4, 5)\n",
      "(1, 1, 3, 3, 3, 4, 5)\n",
      "(1, 2, 2, 3, 3, 4, 5)\n",
      "(1, 1, 1, 2, 2, 3, 4)\n",
      "(2, 2, 3, 3, 4, 4, 4)\n",
      "(3, 4, 4, 4, 4, 5, 5)\n",
      "(1, 2, 2, 3, 3, 3, 3)\n",
      "(1, 1, 1, 3, 3, 3, 5)\n",
      "(1, 2, 2, 2, 4, 4, 4)\n",
      "(2, 2, 3, 3, 4, 5, 5)\n",
      "(1, 1, 2, 3, 4, 5, 5)\n",
      "(1, 3, 4, 4, 4, 5, 5)\n",
      "(1, 2, 2, 2, 3, 4, 5)\n",
      "(1, 2, 3, 3, 3, 3, 4)\n",
      "(1, 1, 1, 1, 2, 3, 4)\n",
      "(1, 1, 1, 1, 1, 1, 2)\n",
      "(1, 1, 1, 1, 4, 5, 5)\n",
      "(1, 2, 2, 2, 4, 5, 5)\n",
      "(1, 1, 2, 2, 4, 4, 4)\n",
      "(1, 3, 3, 4, 4, 4, 5)\n",
      "(1, 1, 1, 1, 1, 2, 3)\n",
      "15\n"
     ]
    }
   ],
   "source": [
    "count = 0 \n",
    "comb_list = []\n",
    "for comb in itertools.combinations(s, m):\n",
    "    comb = sorted(list(comb))\n",
    "#     print(comb)\n",
    "    comb_list.append(tuple(comb))\n",
    "\n",
    "    \n",
    "comb_list = set(comb_list)\n",
    "                \n",
    "for comb in comb_list:\n",
    "    print(comb)\n",
    "#     print(sum(comb))\n",
    "    sum_com = sum(comb)\n",
    "    if sum_com == d:\n",
    "#         print(\"hi\")\n",
    "        count+=1\n",
    "print(count)                "
   ]
  },
  {
   "cell_type": "code",
   "execution_count": null,
   "id": "5eba17db",
   "metadata": {},
   "outputs": [],
   "source": []
  },
  {
   "cell_type": "code",
   "execution_count": 15,
   "id": "86e76004",
   "metadata": {},
   "outputs": [],
   "source": [
    "q = 0\n"
   ]
  },
  {
   "cell_type": "code",
   "execution_count": 34,
   "id": "88d04c94",
   "metadata": {},
   "outputs": [],
   "source": [
    "binary_num = bin(2147483647)[2:]"
   ]
  },
  {
   "cell_type": "code",
   "execution_count": 35,
   "id": "25b654e3",
   "metadata": {},
   "outputs": [
    {
     "data": {
      "text/plain": [
       "'1111111111111111111111111111111'"
      ]
     },
     "execution_count": 35,
     "metadata": {},
     "output_type": "execute_result"
    }
   ],
   "source": [
    "binary_num"
   ]
  },
  {
   "cell_type": "code",
   "execution_count": 32,
   "id": "0cf4364a",
   "metadata": {},
   "outputs": [],
   "source": [
    "for i,char in enumerate(binary_num):\n",
    "    \n",
    "    if char == 0:\n",
    "        binary_num[i] = 1"
   ]
  },
  {
   "cell_type": "code",
   "execution_count": 33,
   "id": "44e2a11c",
   "metadata": {},
   "outputs": [
    {
     "data": {
      "text/plain": [
       "'1111111111111111111111111111111'"
      ]
     },
     "execution_count": 33,
     "metadata": {},
     "output_type": "execute_result"
    }
   ],
   "source": [
    "binary_num"
   ]
  },
  {
   "cell_type": "code",
   "execution_count": 1,
   "id": "7b2307b4",
   "metadata": {},
   "outputs": [],
   "source": [
    "arr = [[11, 2, 4], [4, 5, 6], [10, 8, -12]]"
   ]
  },
  {
   "cell_type": "code",
   "execution_count": 3,
   "id": "8d5754eb",
   "metadata": {},
   "outputs": [
    {
     "data": {
      "text/plain": [
       "[11, 2, 4]"
      ]
     },
     "execution_count": 3,
     "metadata": {},
     "output_type": "execute_result"
    }
   ],
   "source": [
    "arr[0][0]"
   ]
  },
  {
   "cell_type": "code",
   "execution_count": 7,
   "id": "16642d4c",
   "metadata": {},
   "outputs": [
    {
     "data": {
      "text/plain": [
       "4"
      ]
     },
     "execution_count": 7,
     "metadata": {},
     "output_type": "execute_result"
    }
   ],
   "source": [
    "sum_dig_1 = 0\n",
    "sum_dig_2 = 0\n",
    "\n",
    "for i in range (len(arr)):\n",
    "    sum_dig_1 = sum_dig_1 + arr[i][i]\n",
    "for i in range (len(arr)):\n",
    "    sum_dig_2 = sum_dig_2 + arr[i][len(arr) - 1 - i]sum_dig_1\n",
    "diff = abs(sum_dig_1-sum_dig_2)\n",
    "diff"
   ]
  },
  {
   "cell_type": "code",
   "execution_count": 11,
   "id": "996abaed",
   "metadata": {},
   "outputs": [
    {
     "data": {
      "text/plain": [
       "19"
      ]
     },
     "execution_count": 11,
     "metadata": {},
     "output_type": "execute_result"
    }
   ],
   "source": [
    "sum_dig_2 = 0\n",
    "for i in range (len(arr)):\n",
    "    sum_dig_2 = sum_dig_2 + arr[i][len(arr) - 1 - i]\n",
    "sum_dig_2"
   ]
  },
  {
   "cell_type": "code",
   "execution_count": 1,
   "id": "980973a1",
   "metadata": {},
   "outputs": [
    {
     "data": {
      "text/plain": [
       "199"
      ]
     },
     "execution_count": 1,
     "metadata": {},
     "output_type": "execute_result"
    }
   ],
   "source": [
    "    \n",
    "len(\"0 2 0 2 0 0 1 0 1 2 1 0 1 1 0 0 2 0 1 0 1 2 1 1 1 3 0 2 0 0 2 0 3 3 1 0 0 0 0 2 2 1 1 1 2 0 2 0 1 0 1 0 0 1 0 0 2 1 0 1 1 1 0 1 0 1 0 2 1 3 2 0 0 2 1 2 1 0 2 2 1 2 1 2 1 1 2 2 0 3 2 1 1 0 1 1 1 0 2 2\")\n"
   ]
  },
  {
   "cell_type": "code",
   "execution_count": 3,
   "id": "0c790a61",
   "metadata": {},
   "outputs": [
    {
     "name": "stdout",
     "output_type": "stream",
     "text": [
      "2\n",
      "5\n",
      "1\n",
      "3\n",
      "4\n",
      "4\n",
      "3\n",
      "5\n",
      "1\n",
      "1\n",
      "2\n",
      "1\n",
      "4\n",
      "1\n",
      "3\n",
      "3\n",
      "4\n",
      "2\n",
      "1\n"
     ]
    }
   ],
   "source": [
    "for i in s:\n",
    "    print(i)"
   ]
  },
  {
   "cell_type": "code",
   "execution_count": 7,
   "id": "2e71bcfd",
   "metadata": {},
   "outputs": [],
   "source": [
    "median_pos = 7//2+1"
   ]
  },
  {
   "cell_type": "code",
   "execution_count": 8,
   "id": "1431a4e5",
   "metadata": {},
   "outputs": [
    {
     "data": {
      "text/plain": [
       "4"
      ]
     },
     "execution_count": 8,
     "metadata": {},
     "output_type": "execute_result"
    }
   ],
   "source": [
    "median_pos"
   ]
  },
  {
   "cell_type": "code",
   "execution_count": 9,
   "id": "d06b7c5a",
   "metadata": {},
   "outputs": [
    {
     "data": {
      "text/plain": [
       "2"
      ]
     },
     "execution_count": 9,
     "metadata": {},
     "output_type": "execute_result"
    }
   ],
   "source": [
    "len([1,2])"
   ]
  },
  {
   "cell_type": "raw",
   "id": "f72863db",
   "metadata": {},
   "source": []
  },
  {
   "cell_type": "code",
   "execution_count": 10,
   "id": "5d916a11",
   "metadata": {},
   "outputs": [
    {
     "data": {
      "text/plain": [
       "4"
      ]
     },
     "execution_count": 10,
     "metadata": {},
     "output_type": "execute_result"
    }
   ],
   "source": [
    "matrix=[[112, 42, 83, 119], [56, 125, 56, 49], [15, 78, 101, 43], [62, 98, 114, 108]]\n",
    "len(matrix)"
   ]
  },
  {
   "cell_type": "code",
   "execution_count": null,
   "id": "b92e9696",
   "metadata": {},
   "outputs": [],
   "source": [
    "    len_mat = len(matrix)\n",
    "    Sum = 0\n",
    "    for i in range(0, len_mat // 2):\n",
    "        for j in range(0, len_mat // 2):\n",
    " \n",
    "            r1, r2 = i, len_mat - i - 1\n",
    "            c1, c2 = j, len_mat - j - 1\n",
    "\n",
    "            Sum += max(max(matrix[r1][c1], matrix[r1][c2]),\n",
    "                       max(matrix[r2][c1], matrix[r2][c2]))\n",
    "    return Sum"
   ]
  },
  {
   "cell_type": "code",
   "execution_count": 24,
   "id": "2f0516ad",
   "metadata": {},
   "outputs": [
    {
     "name": "stdout",
     "output_type": "stream",
     "text": [
      "hi\n"
     ]
    }
   ],
   "source": [
    "# ar = [10, 20, 20, 10, 10, 30, 50, 10, 20]\n",
    "ar = [1, 1, 3, 1, 2, 1, 3, 3, 3, 3]\n",
    "\n",
    "if 3 in ar:\n",
    "    print(\"hi\")"
   ]
  },
  {
   "cell_type": "code",
   "execution_count": 33,
   "id": "67c86c1a",
   "metadata": {},
   "outputs": [
    {
     "data": {
      "text/plain": [
       "{1, 2, 3}"
      ]
     },
     "execution_count": 33,
     "metadata": {},
     "output_type": "execute_result"
    }
   ],
   "source": [
    "uni_ar = set(ar)\n",
    "uni_ar"
   ]
  },
  {
   "cell_type": "code",
   "execution_count": 39,
   "id": "67c14040",
   "metadata": {},
   "outputs": [
    {
     "name": "stdout",
     "output_type": "stream",
     "text": [
      "4\n",
      "1\n",
      "5\n"
     ]
    },
    {
     "ename": "SyntaxError",
     "evalue": "'return' outside function (427424701.py, line 19)",
     "output_type": "error",
     "traceback": [
      "\u001b[0;36m  Cell \u001b[0;32mIn[39], line 19\u001b[0;36m\u001b[0m\n\u001b[0;31m    return (int(count_i))\u001b[0m\n\u001b[0m    ^\u001b[0m\n\u001b[0;31mSyntaxError\u001b[0m\u001b[0;31m:\u001b[0m 'return' outside function\n"
     ]
    }
   ],
   "source": [
    "uni_ar = set(ar)\n",
    "uni_ar\n",
    "count_i = 0\n",
    "for item in uni_ar:\n",
    "    item_count = ar.count(item)\n",
    "    print(item_count)\n",
    "    if item_count%2 == 0:\n",
    "            count_i = count_i + item_count/2\n",
    "    elif item_count%2 != 0:\n",
    "        count_i += item_count//2\n",
    "    \n",
    "return int(count_i)\n",
    "    \n",
    "    \n",
    "        \n",
    "\n"
   ]
  },
  {
   "cell_type": "code",
   "execution_count": 2,
   "id": "de47fbe6",
   "metadata": {},
   "outputs": [],
   "source": [
    "s = \"shubham kumar shaw\"\n",
    "x = \"\""
   ]
  },
  {
   "cell_type": "code",
   "execution_count": 12,
   "id": "cb8dca0a",
   "metadata": {},
   "outputs": [],
   "source": [
    "x = s[0].upper() + s[1:-1]"
   ]
  },
  {
   "cell_type": "code",
   "execution_count": 16,
   "id": "ffee6579",
   "metadata": {},
   "outputs": [
    {
     "ename": "TypeError",
     "evalue": "'str' object does not support item assignment",
     "output_type": "error",
     "traceback": [
      "\u001b[0;31m---------------------------------------------------------------------------\u001b[0m",
      "\u001b[0;31mTypeError\u001b[0m                                 Traceback (most recent call last)",
      "Cell \u001b[0;32mIn[16], line 8\u001b[0m\n\u001b[1;32m      6\u001b[0m     new_s \u001b[38;5;241m=\u001b[39m new_s\u001b[38;5;241m+\u001b[39ms[i]\n\u001b[1;32m      7\u001b[0m \u001b[38;5;28;01melif\u001b[39;00m s[i] \u001b[38;5;241m==\u001b[39m \u001b[38;5;124m\"\u001b[39m\u001b[38;5;124m \u001b[39m\u001b[38;5;124m\"\u001b[39m:\n\u001b[0;32m----> 8\u001b[0m     \u001b[43mnew_s\u001b[49m\u001b[43m[\u001b[49m\u001b[43mi\u001b[49m\u001b[38;5;241;43m+\u001b[39;49m\u001b[38;5;241;43m1\u001b[39;49m\u001b[43m]\u001b[49m \u001b[38;5;241m=\u001b[39m new_s \u001b[38;5;241m+\u001b[39m s[i\u001b[38;5;241m+\u001b[39m\u001b[38;5;241m1\u001b[39m]\u001b[38;5;241m.\u001b[39mupper()\n",
      "\u001b[0;31mTypeError\u001b[0m: 'str' object does not support item assignment"
     ]
    }
   ],
   "source": [
    "new_s = \"\"\n",
    "for i in range(len(s)):\n",
    "    if i == 0:\n",
    "        new_s = new_s + s[i].upper()\n",
    "    elif s[i] != \" \":\n",
    "        new_s = new_s+s[i]\n",
    "    elif s[i] == \" \":\n",
    "        new_s[i+1] = new_s + s[i+1].upper()"
   ]
  },
  {
   "cell_type": "code",
   "execution_count": 19,
   "id": "f73b3cb9",
   "metadata": {},
   "outputs": [
    {
     "data": {
      "text/plain": [
       "'s'"
      ]
     },
     "execution_count": 19,
     "metadata": {},
     "output_type": "execute_result"
    }
   ],
   "source": [
    "word= s.split()\n",
    "word[0][0]"
   ]
  },
  {
   "cell_type": "code",
   "execution_count": 22,
   "id": "0db9a6dc",
   "metadata": {},
   "outputs": [
    {
     "data": {
      "text/plain": [
       "'Shubham'"
      ]
     },
     "execution_count": 22,
     "metadata": {},
     "output_type": "execute_result"
    }
   ],
   "source": [
    "word[0][0].upper()+word[0][1:]\n"
   ]
  },
  {
   "cell_type": "code",
   "execution_count": 26,
   "id": "f7d80281",
   "metadata": {},
   "outputs": [
    {
     "ename": "TypeError",
     "evalue": "'int' object is not subscriptable",
     "output_type": "error",
     "traceback": [
      "\u001b[0;31m---------------------------------------------------------------------------\u001b[0m",
      "\u001b[0;31mTypeError\u001b[0m                                 Traceback (most recent call last)",
      "Cell \u001b[0;32mIn[26], line 17\u001b[0m\n\u001b[1;32m     14\u001b[0m             \u001b[38;5;28mprint\u001b[39m(\u001b[38;5;124m'\u001b[39m\u001b[38;5;132;01m{}\u001b[39;00m\u001b[38;5;124m \u001b[39m\u001b[38;5;132;01m{}\u001b[39;00m\u001b[38;5;124m'\u001b[39m\u001b[38;5;241m.\u001b[39mformat(i[\u001b[38;5;241m1\u001b[39m], i[\u001b[38;5;241m0\u001b[39m]))\n\u001b[1;32m     16\u001b[0m ans \u001b[38;5;241m=\u001b[39m twoSum([\u001b[38;5;241m2\u001b[39m, \u001b[38;5;241m7\u001b[39m, \u001b[38;5;241m11\u001b[39m, \u001b[38;5;241m13\u001b[39m], \u001b[38;5;241m9\u001b[39m, \u001b[38;5;241m4\u001b[39m)\n\u001b[0;32m---> 17\u001b[0m \u001b[43mprintAns\u001b[49m\u001b[43m(\u001b[49m\u001b[43mans\u001b[49m\u001b[43m)\u001b[49m\n",
      "Cell \u001b[0;32mIn[26], line 11\u001b[0m, in \u001b[0;36mprintAns\u001b[0;34m(ans)\u001b[0m\n\u001b[1;32m      9\u001b[0m \u001b[38;5;28;01mdef\u001b[39;00m \u001b[38;5;21mprintAns\u001b[39m(ans):\n\u001b[1;32m     10\u001b[0m     \u001b[38;5;28;01mfor\u001b[39;00m i \u001b[38;5;129;01min\u001b[39;00m ans:\n\u001b[0;32m---> 11\u001b[0m         \u001b[38;5;28;01mif\u001b[39;00m \u001b[43mi\u001b[49m\u001b[43m[\u001b[49m\u001b[38;5;241;43m0\u001b[39;49m\u001b[43m]\u001b[49m \u001b[38;5;241m<\u001b[39m i[\u001b[38;5;241m1\u001b[39m]:\n\u001b[1;32m     12\u001b[0m             \u001b[38;5;28mprint\u001b[39m(\u001b[38;5;124m'\u001b[39m\u001b[38;5;132;01m{}\u001b[39;00m\u001b[38;5;124m \u001b[39m\u001b[38;5;132;01m{}\u001b[39;00m\u001b[38;5;124m'\u001b[39m\u001b[38;5;241m.\u001b[39mformat(i[\u001b[38;5;241m0\u001b[39m], i[\u001b[38;5;241m1\u001b[39m]))\n\u001b[1;32m     13\u001b[0m         \u001b[38;5;28;01melse\u001b[39;00m:\n",
      "\u001b[0;31mTypeError\u001b[0m: 'int' object is not subscriptable"
     ]
    }
   ],
   "source": [
    "def twoSum(arr, target, n):\n",
    "    # Write your code here.\n",
    "    for i,element in enumerate(arr):\n",
    "        if (target-element) in arr:\n",
    "            return [element, target-element]\n",
    "        else:\n",
    "            return [-1, -1]\n",
    "\n",
    "def printAns(ans):\n",
    "    for i in ans:\n",
    "        if i[0] < i[1]:\n",
    "            print('{} {}'.format(i[0], i[1]))\n",
    "        else:\n",
    "            print('{} {}'.format(i[1], i[0]))\n",
    "\n",
    "ans = twoSum([2, 7, 11, 13], 9, 4)\n",
    "printAns(ans)\n"
   ]
  },
  {
   "cell_type": "code",
   "execution_count": 27,
   "id": "152ad154",
   "metadata": {},
   "outputs": [
    {
     "name": "stdout",
     "output_type": "stream",
     "text": [
      "Enter a string: abcd\n",
      "Original string: abcd\n",
      "Rotated string (+2): cdef\n"
     ]
    }
   ],
   "source": [
    "def rotate_alphabet(input_str, rotation):\n",
    "    original_alphabet = 'abcdefghijklmnopqrstuvwxyz'\n",
    "    rotated_alphabet = original_alphabet[rotation:] + original_alphabet[:rotation]\n",
    "    \n",
    "    translation_table = str.maketrans(original_alphabet, rotated_alphabet)\n",
    "    rotated_str = input_str.translate(translation_table)\n",
    "    \n",
    "    return rotated_str\n",
    "\n",
    "# Example usage\n",
    "input_string = input(\"Enter a string: \")\n",
    "rotation_amount = 2\n",
    "rotated_string = rotate_alphabet(input_string, rotation_amount)\n",
    "print(\"Original string:\", input_string)\n",
    "print(f\"Rotated string (+{rotation_amount}):\", rotated_string)\n"
   ]
  },
  {
   "cell_type": "code",
   "execution_count": 36,
   "id": "b1cd3c4e",
   "metadata": {},
   "outputs": [
    {
     "name": "stdout",
     "output_type": "stream",
     "text": [
      "c\n",
      "d\n",
      "e\n",
      "f\n"
     ]
    },
    {
     "data": {
      "text/plain": [
       "'cdef'"
      ]
     },
     "execution_count": 36,
     "metadata": {},
     "output_type": "execute_result"
    }
   ],
   "source": [
    "s= 'abcd'\n",
    "new_s = ''\n",
    "for char in s:\n",
    "    if char.isalpha() == True: \n",
    "        print(chr(ord(char)+2))\n",
    "        new_s += chr(ord(char)+2)\n",
    "\n",
    "new_s"
   ]
  },
  {
   "cell_type": "code",
   "execution_count": 37,
   "id": "b9ea40ea",
   "metadata": {},
   "outputs": [
    {
     "ename": "NameError",
     "evalue": "name 'string' is not defined",
     "output_type": "error",
     "traceback": [
      "\u001b[0;31m---------------------------------------------------------------------------\u001b[0m",
      "\u001b[0;31mNameError\u001b[0m                                 Traceback (most recent call last)",
      "Cell \u001b[0;32mIn[37], line 1\u001b[0m\n\u001b[0;32m----> 1\u001b[0m \u001b[43mstring\u001b[49m\u001b[38;5;241m.\u001b[39mascii_uppercase\n",
      "\u001b[0;31mNameError\u001b[0m: name 'string' is not defined"
     ]
    }
   ],
   "source": [
    "string.ascii_uppercase"
   ]
  },
  {
   "cell_type": "code",
   "execution_count": 45,
   "id": "3c6f6bb2",
   "metadata": {},
   "outputs": [
    {
     "name": "stdout",
     "output_type": "stream",
     "text": [
      "119\n",
      "83\n",
      "42\n",
      "112\n",
      "[119, 83, 42, 112]\n"
     ]
    }
   ],
   "source": [
    "arr = [112, 42, 83, 119]\n",
    "new_arr = []\n",
    "for i in range(len(arr)):\n",
    "    print(arr[len(arr)-1-i])\n",
    "    new_arr.append(arr[len(arr)-1-i])\n",
    "print(new_arr)"
   ]
  },
  {
   "cell_type": "code",
   "execution_count": 2,
   "id": "a0284ac3",
   "metadata": {},
   "outputs": [],
   "source": [
    "import string\n",
    "size = 5\n",
    "alpha_list = [letter for letter in string.ascii_lowercase]\n"
   ]
  },
  {
   "cell_type": "code",
   "execution_count": 10,
   "id": "4aa06e0a",
   "metadata": {},
   "outputs": [
    {
     "name": "stdout",
     "output_type": "stream",
     "text": [
      "edcba\n",
      "edcba\n",
      "edcba\n",
      "edcba\n",
      "edcba\n"
     ]
    }
   ],
   "source": [
    "for i in range(size):\n",
    "    for i in range(size):\n",
    "        print(alpha_list[size-i-1], end = \"\")\n",
    "    print()"
   ]
  },
  {
   "cell_type": "code",
   "execution_count": 6,
   "id": "e3c82506",
   "metadata": {},
   "outputs": [
    {
     "name": "stdout",
     "output_type": "stream",
     "text": [
      "----------e\n",
      "--------d\n",
      "------c\n",
      "----b\n",
      "--a\n"
     ]
    }
   ],
   "source": [
    "for i in range(size):\n",
    "    print(\"-\"*((size-i)*2) + alpha_list[size-i-1])"
   ]
  },
  {
   "cell_type": "code",
   "execution_count": 11,
   "id": "2836f6da",
   "metadata": {},
   "outputs": [
    {
     "ename": "SyntaxError",
     "evalue": "invalid syntax (3033525717.py, line 3)",
     "output_type": "error",
     "traceback": [
      "\u001b[0;36m  Cell \u001b[0;32mIn[11], line 3\u001b[0;36m\u001b[0m\n\u001b[0;31m    --------e--------\u001b[0m\n\u001b[0m                     ^\u001b[0m\n\u001b[0;31mSyntaxError\u001b[0m\u001b[0;31m:\u001b[0m invalid syntax\n"
     ]
    }
   ],
   "source": [
    "for i in range(size-1):\n",
    "    print(alpha_list[size])\n",
    "# --------e--------\n",
    "# ------e-d-e------\n",
    "# ----e-d-c-d-e----\n",
    "# --e-d-c-b-c-d-e--\n",
    "# e-d-c-b-a-b-c-d-e\n",
    "# --e-d-c-b-c-d-e--\n",
    "# ----e-d-c-d-e----\n",
    "# ------e-d-e------\n",
    "# --------e--------\n"
   ]
  },
  {
   "cell_type": "code",
   "execution_count": 17,
   "id": "deb4838f",
   "metadata": {},
   "outputs": [
    {
     "ename": "NameError",
     "evalue": "name 'A' is not defined",
     "output_type": "error",
     "traceback": [
      "\u001b[0;31m---------------------------------------------------------------------------\u001b[0m",
      "\u001b[0;31mNameError\u001b[0m                                 Traceback (most recent call last)",
      "Cell \u001b[0;32mIn[17], line 1\u001b[0m\n\u001b[0;32m----> 1\u001b[0m \u001b[38;5;28;01mclass\u001b[39;00m \u001b[38;5;21;01mA\u001b[39;00m:\n\u001b[1;32m      2\u001b[0m     \u001b[38;5;28;01mdef\u001b[39;00m \u001b[38;5;21m__init__\u001b[39m(s):\n\u001b[1;32m      3\u001b[0m         \u001b[38;5;28mself\u001b[39m\u001b[38;5;241m.\u001b[39ms \u001b[38;5;241m=\u001b[39m s\n",
      "Cell \u001b[0;32mIn[17], line 6\u001b[0m, in \u001b[0;36mA\u001b[0;34m()\u001b[0m\n\u001b[1;32m      4\u001b[0m \u001b[38;5;28;01mdef\u001b[39;00m \u001b[38;5;21mprint\u001b[39m():\n\u001b[1;32m      5\u001b[0m     \u001b[38;5;28;01mpass\u001b[39;00m\n\u001b[0;32m----> 6\u001b[0m a \u001b[38;5;241m=\u001b[39m \u001b[43mA\u001b[49m(\u001b[38;5;124m'\u001b[39m\u001b[38;5;124m John\u001b[39m\u001b[38;5;124m'\u001b[39m )\n\u001b[1;32m      7\u001b[0m a\u001b[38;5;241m.\u001b[39mprint ()\n",
      "\u001b[0;31mNameError\u001b[0m: name 'A' is not defined"
     ]
    }
   ],
   "source": [
    "class A:\n",
    "    def __init__(s):\n",
    "        self.s = s\n",
    "    def print():\n",
    "        pass\n",
    "    a = A(' John' )\n",
    "    a.print ()"
   ]
  },
  {
   "cell_type": "code",
   "execution_count": 18,
   "id": "0fd4d058",
   "metadata": {},
   "outputs": [
    {
     "ename": "AssertionError",
     "evalue": "",
     "output_type": "error",
     "traceback": [
      "\u001b[0;31m---------------------------------------------------------------------------\u001b[0m",
      "\u001b[0;31mAssertionError\u001b[0m                            Traceback (most recent call last)",
      "Cell \u001b[0;32mIn[18], line 5\u001b[0m\n\u001b[1;32m      3\u001b[0m     \u001b[38;5;28;01massert\u001b[39;00m(b\u001b[38;5;241m>\u001b[39ma)\n\u001b[1;32m      4\u001b[0m     \u001b[38;5;28mprint\u001b[39m(a\u001b[38;5;241m/\u001b[39mb)\n\u001b[0;32m----> 5\u001b[0m \u001b[43madd\u001b[49m\u001b[43m(\u001b[49m\u001b[38;5;241;43m4\u001b[39;49m\u001b[43m,\u001b[49m\u001b[38;5;241;43m0\u001b[39;49m\u001b[43m)\u001b[49m\n",
      "Cell \u001b[0;32mIn[18], line 3\u001b[0m, in \u001b[0;36madd\u001b[0;34m(a, b)\u001b[0m\n\u001b[1;32m      1\u001b[0m \u001b[38;5;28;01mdef\u001b[39;00m \u001b[38;5;21madd\u001b[39m(a,b):\n\u001b[1;32m      2\u001b[0m     \u001b[38;5;28;01massert\u001b[39;00m(a\u001b[38;5;241m>\u001b[39mb)\n\u001b[0;32m----> 3\u001b[0m     \u001b[38;5;28;01massert\u001b[39;00m(b\u001b[38;5;241m>\u001b[39ma)\n\u001b[1;32m      4\u001b[0m     \u001b[38;5;28mprint\u001b[39m(a\u001b[38;5;241m/\u001b[39mb)\n",
      "\u001b[0;31mAssertionError\u001b[0m: "
     ]
    }
   ],
   "source": [
    "def add(a,b):\n",
    "    assert(a>b)\n",
    "    assert(b>a)\n",
    "    print(a/b)\n",
    "add(4,0)"
   ]
  },
  {
   "cell_type": "code",
   "execution_count": 34,
   "id": "af114d15",
   "metadata": {},
   "outputs": [],
   "source": [
    "arr = [3,7,-1,8,9,10,1]"
   ]
  },
  {
   "cell_type": "code",
   "execution_count": 35,
   "id": "005b862b",
   "metadata": {},
   "outputs": [
    {
     "data": {
      "text/plain": [
       "[-1, 1, 3, 7, 8, 9, 10]"
      ]
     },
     "execution_count": 35,
     "metadata": {},
     "output_type": "execute_result"
    }
   ],
   "source": [
    "arr.sort()\n",
    "arr"
   ]
  },
  {
   "cell_type": "code",
   "execution_count": 37,
   "id": "fff0d106",
   "metadata": {},
   "outputs": [
    {
     "name": "stdout",
     "output_type": "stream",
     "text": [
      "2\n"
     ]
    }
   ],
   "source": [
    "for item in arr:\n",
    "    if item>0:\n",
    "        for i in range(1,arr[-2]):\n",
    "            if i not in arr:\n",
    "                print(i)\n",
    "                break\n",
    "        break"
   ]
  },
  {
   "cell_type": "code",
   "execution_count": 38,
   "id": "515f2072",
   "metadata": {},
   "outputs": [],
   "source": [
    "string = \"Hello this is shubham Kumar shaw\""
   ]
  },
  {
   "cell_type": "code",
   "execution_count": 41,
   "id": "340cdc50",
   "metadata": {},
   "outputs": [],
   "source": [
    "words_list = string.split()\n",
    "len_list = [len(word) for word in words_list ]"
   ]
  },
  {
   "cell_type": "code",
   "execution_count": 43,
   "id": "53c015cb",
   "metadata": {},
   "outputs": [
    {
     "name": "stdout",
     "output_type": "stream",
     "text": [
      "7\n"
     ]
    }
   ],
   "source": [
    "print(max(len_list))"
   ]
  },
  {
   "cell_type": "code",
   "execution_count": 96,
   "id": "20d8fcaa",
   "metadata": {},
   "outputs": [],
   "source": [
    "arr = [3,3,5,1,1,2,2]"
   ]
  },
  {
   "cell_type": "code",
   "execution_count": 97,
   "id": "8c961b57",
   "metadata": {},
   "outputs": [
    {
     "name": "stdout",
     "output_type": "stream",
     "text": [
      "NO\n"
     ]
    }
   ],
   "source": [
    "for i , item in enumerate(arr):\n",
    "#     print(item)\n",
    "    if sum(arr[0:i]) == item and sum(arr[i+1:(len(arr))]) == item:\n",
    "        print(\"YES\")\n",
    "    elif sum(arr[0:i]) == item and sum(arr[i+1:(len(arr))]) == item:\n",
    "\n"
   ]
  },
  {
   "cell_type": "code",
   "execution_count": 51,
   "id": "9aa5fe01",
   "metadata": {},
   "outputs": [
    {
     "data": {
      "text/plain": [
       "8"
      ]
     },
     "execution_count": 51,
     "metadata": {},
     "output_type": "execute_result"
    }
   ],
   "source": [
    "sum(arr[0:3])"
   ]
  },
  {
   "cell_type": "code",
   "execution_count": 59,
   "id": "2b81d545",
   "metadata": {},
   "outputs": [
    {
     "data": {
      "text/plain": [
       "14"
      ]
     },
     "execution_count": 59,
     "metadata": {},
     "output_type": "execute_result"
    }
   ],
   "source": [
    "i = 3\n",
    "sum(arr[i:-1])"
   ]
  },
  {
   "cell_type": "code",
   "execution_count": 71,
   "id": "a67497db",
   "metadata": {},
   "outputs": [
    {
     "data": {
      "text/plain": [
       "[4, 2, 2]"
      ]
     },
     "execution_count": 71,
     "metadata": {},
     "output_type": "execute_result"
    }
   ],
   "source": [
    "arr[i+1:(len(arr))]"
   ]
  },
  {
   "cell_type": "code",
   "execution_count": 10,
   "id": "1271bff2",
   "metadata": {},
   "outputs": [
    {
     "data": {
      "text/plain": [
       "'middle-Outz'"
      ]
     },
     "execution_count": 10,
     "metadata": {},
     "output_type": "execute_result"
    }
   ],
   "source": [
    "str1 = \"middle-Outz\"\n",
    "str1"
   ]
  },
  {
   "cell_type": "code",
   "execution_count": 9,
   "id": "a3cdfd18",
   "metadata": {},
   "outputs": [],
   "source": [
    "def caesarCipher(s, k):\n",
    "    res = \"\"\n",
    "    alphabets_lower = \"abcdefghijklmnopqrstuvwxyz\" \n",
    "    alphabets_upper = \"ABCDEFGHIJKLMNOPQRSTUVWXYZ\" \n",
    "    for ch in s:\n",
    "        if ch in alphabets_lower:\n",
    "            indx = ((ord(ch) - 97) + k) % 26\n",
    "            res += alphabets_lower[indx]\n",
    "        elif ch in alphabets_upper:\n",
    "            indx = ((ord(ch) - 65) + k) % 26\n",
    "            res += alphabets_upper[indx]\n",
    "        else:\n",
    "            res += ch\n",
    "    return res"
   ]
  },
  {
   "cell_type": "code",
   "execution_count": 12,
   "id": "40225076",
   "metadata": {},
   "outputs": [
    {
     "data": {
      "text/plain": [
       "'plggoh-Rxwc'"
      ]
     },
     "execution_count": 12,
     "metadata": {},
     "output_type": "execute_result"
    }
   ],
   "source": [
    "caesarCipher(str1,3)"
   ]
  },
  {
   "cell_type": "code",
   "execution_count": null,
   "id": "aa70c24c",
   "metadata": {},
   "outputs": [],
   "source": [
    "arr[([0]*3)*queries]\n"
   ]
  },
  {
   "cell_type": "code",
   "execution_count": 10,
   "id": "f95c6fa0",
   "metadata": {},
   "outputs": [],
   "source": [
    "arr = [[] for i in range(3)]\n"
   ]
  },
  {
   "cell_type": "code",
   "execution_count": 7,
   "id": "0b4e46b5",
   "metadata": {},
   "outputs": [],
   "source": [
    "arr = ([[0]*3])*3"
   ]
  },
  {
   "cell_type": "code",
   "execution_count": 11,
   "id": "a23acd1f",
   "metadata": {},
   "outputs": [
    {
     "data": {
      "text/plain": [
       "[[], [], []]"
      ]
     },
     "execution_count": 11,
     "metadata": {},
     "output_type": "execute_result"
    }
   ],
   "source": [
    "arr"
   ]
  },
  {
   "cell_type": "code",
   "execution_count": 1,
   "id": "46700c0a",
   "metadata": {},
   "outputs": [],
   "source": [
    "arr = [3,3,5,1,1,2,2]"
   ]
  },
  {
   "cell_type": "code",
   "execution_count": 2,
   "id": "6ff6ce47",
   "metadata": {},
   "outputs": [
    {
     "data": {
      "text/plain": [
       "[1, 1, 2, 2, 3, 3, 5]"
      ]
     },
     "execution_count": 2,
     "metadata": {},
     "output_type": "execute_result"
    }
   ],
   "source": [
    "arr = sorted(arr)\n",
    "arr"
   ]
  },
  {
   "cell_type": "code",
   "execution_count": 3,
   "id": "d0059895",
   "metadata": {},
   "outputs": [
    {
     "data": {
      "text/plain": [
       "{1, 2, 3, 5}"
      ]
     },
     "execution_count": 3,
     "metadata": {},
     "output_type": "execute_result"
    }
   ],
   "source": [
    "set(arr)"
   ]
  },
  {
   "cell_type": "code",
   "execution_count": null,
   "id": "b52ab28d",
   "metadata": {},
   "outputs": [],
   "source": []
  }
 ],
 "metadata": {
  "kernelspec": {
   "display_name": "Python 3 (ipykernel)",
   "language": "python",
   "name": "python3"
  },
  "language_info": {
   "codemirror_mode": {
    "name": "ipython",
    "version": 3
   },
   "file_extension": ".py",
   "mimetype": "text/x-python",
   "name": "python",
   "nbconvert_exporter": "python",
   "pygments_lexer": "ipython3",
   "version": "3.8.10"
  }
 },
 "nbformat": 4,
 "nbformat_minor": 5
}
