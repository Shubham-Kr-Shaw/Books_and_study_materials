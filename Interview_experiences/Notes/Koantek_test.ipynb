{
 "cells": [
  {
   "cell_type": "code",
   "execution_count": 7,
   "id": "72960fac",
   "metadata": {},
   "outputs": [
    {
     "data": {
      "text/plain": [
       "True"
      ]
     },
     "execution_count": 7,
     "metadata": {},
     "output_type": "execute_result"
    }
   ],
   "source": [
    "import math\n",
    "large_num = 11\n",
    "\n",
    "def check(number):\n",
    "    if large_num<1:\n",
    "        return False\n",
    "    for i in range(2, int(math.sqrt(number))+1):\n",
    "        if large_num % i == 0:\n",
    "            return False\n",
    "    return True\n",
    "\n",
    "prime = check(large_num)  \n",
    "prime\n"
   ]
  },
  {
   "cell_type": "code",
   "execution_count": null,
   "id": "b6c51301",
   "metadata": {},
   "outputs": [],
   "source": []
  }
 ],
 "metadata": {
  "kernelspec": {
   "display_name": "Python 3 (ipykernel)",
   "language": "python",
   "name": "python3"
  },
  "language_info": {
   "codemirror_mode": {
    "name": "ipython",
    "version": 3
   },
   "file_extension": ".py",
   "mimetype": "text/x-python",
   "name": "python",
   "nbconvert_exporter": "python",
   "pygments_lexer": "ipython3",
   "version": "3.8.10"
  }
 },
 "nbformat": 4,
 "nbformat_minor": 5
}
