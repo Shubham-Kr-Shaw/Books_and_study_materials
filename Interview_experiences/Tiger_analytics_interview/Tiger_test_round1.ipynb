{
 "cells": [
  {
   "cell_type": "code",
   "execution_count": 48,
   "id": "3dba6352",
   "metadata": {},
   "outputs": [],
   "source": [
    "str1 =  \"applehellodkk\""
   ]
  },
  {
   "cell_type": "code",
   "execution_count": 49,
   "id": "4441a96d",
   "metadata": {},
   "outputs": [
    {
     "data": {
      "text/plain": [
       "['a', 'p', 'p', 'l', 'e', 'h', 'e', 'l', 'l', 'o', 'd', 'k', 'k']"
      ]
     },
     "execution_count": 49,
     "metadata": {},
     "output_type": "execute_result"
    }
   ],
   "source": [
    "str_list = list(str1)\n",
    "str_list"
   ]
  },
  {
   "cell_type": "code",
   "execution_count": 52,
   "id": "d2c30976",
   "metadata": {},
   "outputs": [
    {
     "name": "stdout",
     "output_type": "stream",
     "text": [
      "p\n",
      "l\n",
      "k\n"
     ]
    }
   ],
   "source": [
    "try:\n",
    "    for i in range(len(str_list)):\n",
    "        if str_list[i] == str_list[i+1]:\n",
    "            print(str_list[i])\n",
    "except:\n",
    "    pass"
   ]
  },
  {
   "cell_type": "code",
   "execution_count": 18,
   "id": "61ac5a8c",
   "metadata": {},
   "outputs": [],
   "source": [
    "# Day 1: 75°F              (Not enough data for a moving average)\n",
    "# Day 2: 78°F              (Not enough data for a moving average)\n",
    "# Day 3: 80°F    => Moving Average: 77.67°F\n",
    "# Day 4: 82°F    => Moving Average: 80.00°F\n",
    "# Day 5: 77°F    => Moving Average: 79.67°F\n",
    "# Day 6: 75°F    => Moving Average: 78.00°F\n",
    "# Day 7: 74°F    => Moving Average: 75.33°F"
   ]
  },
  {
   "cell_type": "code",
   "execution_count": 2,
   "id": "5e9d3ec5",
   "metadata": {},
   "outputs": [],
   "source": [
    "import pandas as pd"
   ]
  },
  {
   "cell_type": "code",
   "execution_count": 31,
   "id": "b7f49873",
   "metadata": {},
   "outputs": [],
   "source": [
    "data = {\n",
    "    'date': [1,2,3,4,5,6,7],\n",
    "    'temp': [75,78,80,82,77,75,74]\n",
    "}"
   ]
  },
  {
   "cell_type": "code",
   "execution_count": 32,
   "id": "4c830495",
   "metadata": {},
   "outputs": [
    {
     "data": {
      "text/plain": [
       "{'date': [1, 2, 3, 4, 5, 6, 7], 'temp': [75, 78, 80, 82, 77, 75, 74]}"
      ]
     },
     "execution_count": 32,
     "metadata": {},
     "output_type": "execute_result"
    }
   ],
   "source": [
    "data"
   ]
  },
  {
   "cell_type": "code",
   "execution_count": 33,
   "id": "b74f8441",
   "metadata": {},
   "outputs": [],
   "source": [
    "df = pd.DataFrame(data)"
   ]
  },
  {
   "cell_type": "code",
   "execution_count": 34,
   "id": "a1a1bc1a",
   "metadata": {},
   "outputs": [
    {
     "data": {
      "text/html": [
       "<div>\n",
       "<style scoped>\n",
       "    .dataframe tbody tr th:only-of-type {\n",
       "        vertical-align: middle;\n",
       "    }\n",
       "\n",
       "    .dataframe tbody tr th {\n",
       "        vertical-align: top;\n",
       "    }\n",
       "\n",
       "    .dataframe thead th {\n",
       "        text-align: right;\n",
       "    }\n",
       "</style>\n",
       "<table border=\"1\" class=\"dataframe\">\n",
       "  <thead>\n",
       "    <tr style=\"text-align: right;\">\n",
       "      <th></th>\n",
       "      <th>date</th>\n",
       "      <th>temp</th>\n",
       "    </tr>\n",
       "  </thead>\n",
       "  <tbody>\n",
       "    <tr>\n",
       "      <th>0</th>\n",
       "      <td>1</td>\n",
       "      <td>75</td>\n",
       "    </tr>\n",
       "    <tr>\n",
       "      <th>1</th>\n",
       "      <td>2</td>\n",
       "      <td>78</td>\n",
       "    </tr>\n",
       "    <tr>\n",
       "      <th>2</th>\n",
       "      <td>3</td>\n",
       "      <td>80</td>\n",
       "    </tr>\n",
       "    <tr>\n",
       "      <th>3</th>\n",
       "      <td>4</td>\n",
       "      <td>82</td>\n",
       "    </tr>\n",
       "    <tr>\n",
       "      <th>4</th>\n",
       "      <td>5</td>\n",
       "      <td>77</td>\n",
       "    </tr>\n",
       "    <tr>\n",
       "      <th>5</th>\n",
       "      <td>6</td>\n",
       "      <td>75</td>\n",
       "    </tr>\n",
       "    <tr>\n",
       "      <th>6</th>\n",
       "      <td>7</td>\n",
       "      <td>74</td>\n",
       "    </tr>\n",
       "  </tbody>\n",
       "</table>\n",
       "</div>"
      ],
      "text/plain": [
       "   date  temp\n",
       "0     1    75\n",
       "1     2    78\n",
       "2     3    80\n",
       "3     4    82\n",
       "4     5    77\n",
       "5     6    75\n",
       "6     7    74"
      ]
     },
     "execution_count": 34,
     "metadata": {},
     "output_type": "execute_result"
    }
   ],
   "source": [
    "df"
   ]
  },
  {
   "cell_type": "code",
   "execution_count": 35,
   "id": "6c0dd686",
   "metadata": {},
   "outputs": [],
   "source": [
    "moving_avrage = df['temp'].rolling(window = 3).mean()"
   ]
  },
  {
   "cell_type": "code",
   "execution_count": 36,
   "id": "b4542aae",
   "metadata": {},
   "outputs": [
    {
     "data": {
      "text/plain": [
       "0          NaN\n",
       "1          NaN\n",
       "2    77.666667\n",
       "3    80.000000\n",
       "4    79.666667\n",
       "5    78.000000\n",
       "6    75.333333\n",
       "Name: temp, dtype: float64"
      ]
     },
     "execution_count": 36,
     "metadata": {},
     "output_type": "execute_result"
    }
   ],
   "source": [
    "moving_avrage"
   ]
  },
  {
   "cell_type": "code",
   "execution_count": 43,
   "id": "47fae7c4",
   "metadata": {},
   "outputs": [
    {
     "name": "stdout",
     "output_type": "stream",
     "text": [
      "NaN\n",
      "NaN\n",
      "77.66666666666667\n",
      "80.0\n",
      "79.66666666666667\n",
      "78.0\n",
      "75.33333333333333\n",
      "None\n"
     ]
    }
   ],
   "source": [
    "for i in range (len(df[\"temp\"])):\n",
    "    if i < 2:\n",
    "        print(\"NaN\")\n",
    "    \n",
    "    if i > 4:\n",
    "        for j in range(i):\n",
    "            moving_avg = print((df[\"temp\"][j]+df[\"temp\"][j+1]+df[\"temp\"][j+2])/3)\n",
    "        print((moving_avg))\n",
    "        break\n",
    "        "
   ]
  },
  {
   "cell_type": "code",
   "execution_count": 1,
   "id": "96c6f25b",
   "metadata": {},
   "outputs": [
    {
     "name": "stdout",
     "output_type": "stream",
     "text": [
      "   CustomerID  Age  Gender  Income  SpendingScore\n",
      "0           1   20    Male   30000             50\n",
      "1           2   45  Female   60000             75\n",
      "2           3   30    Male   50000             45\n",
      "3           4   25  Female   70000             85\n",
      "4           5   35  Female   80000             70\n"
     ]
    }
   ],
   "source": [
    "import pandas as pd\n",
    "import matplotlib.pyplot as plt\n",
    "# import seaborn as sns\n",
    "\n",
    "# Create a DataFrame\n",
    "data = pd.DataFrame({\n",
    "    'CustomerID': [1, 2, 3, 4, 5],\n",
    "    'Age': [20, 45, 30, 25, 35],\n",
    "    'Gender': ['Male', 'Female', 'Male', 'Female', 'Female'],\n",
    "    'Income': [30000, 60000, 50000, 70000, 80000],\n",
    "    'SpendingScore': [50, 75, 45, 85, 70]\n",
    "})\n",
    "\n",
    "# Display the first few rows\n",
    "print(data.head())"
   ]
  },
  {
   "cell_type": "code",
   "execution_count": 2,
   "id": "4b3a6503",
   "metadata": {},
   "outputs": [],
   "source": [
    "# Calculate the mean income and spending score for each age group \n",
    "# (bins of 10 years) and\n",
    "# find the age group with the highest income."
   ]
  },
  {
   "cell_type": "code",
   "execution_count": 24,
   "id": "5e881856",
   "metadata": {},
   "outputs": [],
   "source": [
    "age_bins = [20, 30, 40, 50]\n"
   ]
  },
  {
   "cell_type": "code",
   "execution_count": 25,
   "id": "06fdcb7f",
   "metadata": {},
   "outputs": [],
   "source": [
    "# try:\n",
    "age_group_list = []\n",
    "for age in data.Age:\n",
    "    for i in range(len(age_bins)):\n",
    "        if age_bins[i] <= age <  age_bins[i+1]:\n",
    "            age_group_list.append((age_bins[i],age_bins[i+1]))\n",
    "# except:\n",
    "#     pass\n",
    "\n"
   ]
  },
  {
   "cell_type": "code",
   "execution_count": 26,
   "id": "ef98f7ea",
   "metadata": {},
   "outputs": [
    {
     "data": {
      "text/plain": [
       "[(20, 30), (40, 50), (30, 40), (20, 30), (30, 40)]"
      ]
     },
     "execution_count": 26,
     "metadata": {},
     "output_type": "execute_result"
    }
   ],
   "source": [
    "age_group_list"
   ]
  },
  {
   "cell_type": "code",
   "execution_count": null,
   "id": "f603a3fc",
   "metadata": {},
   "outputs": [],
   "source": []
  },
  {
   "cell_type": "code",
   "execution_count": 27,
   "id": "a6dbfc45",
   "metadata": {},
   "outputs": [
    {
     "data": {
      "text/html": [
       "<div>\n",
       "<style scoped>\n",
       "    .dataframe tbody tr th:only-of-type {\n",
       "        vertical-align: middle;\n",
       "    }\n",
       "\n",
       "    .dataframe tbody tr th {\n",
       "        vertical-align: top;\n",
       "    }\n",
       "\n",
       "    .dataframe thead th {\n",
       "        text-align: right;\n",
       "    }\n",
       "</style>\n",
       "<table border=\"1\" class=\"dataframe\">\n",
       "  <thead>\n",
       "    <tr style=\"text-align: right;\">\n",
       "      <th></th>\n",
       "      <th>CustomerID</th>\n",
       "      <th>Age</th>\n",
       "      <th>Gender</th>\n",
       "      <th>Income</th>\n",
       "      <th>SpendingScore</th>\n",
       "      <th>AgeGroup</th>\n",
       "    </tr>\n",
       "  </thead>\n",
       "  <tbody>\n",
       "    <tr>\n",
       "      <th>0</th>\n",
       "      <td>1</td>\n",
       "      <td>20</td>\n",
       "      <td>Male</td>\n",
       "      <td>30000</td>\n",
       "      <td>50</td>\n",
       "      <td>(20, 30)</td>\n",
       "    </tr>\n",
       "    <tr>\n",
       "      <th>1</th>\n",
       "      <td>2</td>\n",
       "      <td>45</td>\n",
       "      <td>Female</td>\n",
       "      <td>60000</td>\n",
       "      <td>75</td>\n",
       "      <td>(40, 50)</td>\n",
       "    </tr>\n",
       "    <tr>\n",
       "      <th>2</th>\n",
       "      <td>3</td>\n",
       "      <td>30</td>\n",
       "      <td>Male</td>\n",
       "      <td>50000</td>\n",
       "      <td>45</td>\n",
       "      <td>(30, 40)</td>\n",
       "    </tr>\n",
       "    <tr>\n",
       "      <th>3</th>\n",
       "      <td>4</td>\n",
       "      <td>25</td>\n",
       "      <td>Female</td>\n",
       "      <td>70000</td>\n",
       "      <td>85</td>\n",
       "      <td>(20, 30)</td>\n",
       "    </tr>\n",
       "    <tr>\n",
       "      <th>4</th>\n",
       "      <td>5</td>\n",
       "      <td>35</td>\n",
       "      <td>Female</td>\n",
       "      <td>80000</td>\n",
       "      <td>70</td>\n",
       "      <td>(30, 40)</td>\n",
       "    </tr>\n",
       "  </tbody>\n",
       "</table>\n",
       "</div>"
      ],
      "text/plain": [
       "   CustomerID  Age  Gender  Income  SpendingScore  AgeGroup\n",
       "0           1   20    Male   30000             50  (20, 30)\n",
       "1           2   45  Female   60000             75  (40, 50)\n",
       "2           3   30    Male   50000             45  (30, 40)\n",
       "3           4   25  Female   70000             85  (20, 30)\n",
       "4           5   35  Female   80000             70  (30, 40)"
      ]
     },
     "execution_count": 27,
     "metadata": {},
     "output_type": "execute_result"
    }
   ],
   "source": [
    "data['AgeGroup'] = age_group_list\n",
    "data"
   ]
  },
  {
   "cell_type": "code",
   "execution_count": 28,
   "id": "13f290da",
   "metadata": {},
   "outputs": [],
   "source": [
    "grouped = data.groupby('AgeGroup').agg({'Income': 'mean', 'SpendingScore': 'mean'})\n"
   ]
  },
  {
   "cell_type": "code",
   "execution_count": 29,
   "id": "63b7b8ba",
   "metadata": {},
   "outputs": [
    {
     "data": {
      "text/html": [
       "<div>\n",
       "<style scoped>\n",
       "    .dataframe tbody tr th:only-of-type {\n",
       "        vertical-align: middle;\n",
       "    }\n",
       "\n",
       "    .dataframe tbody tr th {\n",
       "        vertical-align: top;\n",
       "    }\n",
       "\n",
       "    .dataframe thead th {\n",
       "        text-align: right;\n",
       "    }\n",
       "</style>\n",
       "<table border=\"1\" class=\"dataframe\">\n",
       "  <thead>\n",
       "    <tr style=\"text-align: right;\">\n",
       "      <th></th>\n",
       "      <th>Income</th>\n",
       "      <th>SpendingScore</th>\n",
       "    </tr>\n",
       "    <tr>\n",
       "      <th>AgeGroup</th>\n",
       "      <th></th>\n",
       "      <th></th>\n",
       "    </tr>\n",
       "  </thead>\n",
       "  <tbody>\n",
       "    <tr>\n",
       "      <th>(20, 30)</th>\n",
       "      <td>50000.0</td>\n",
       "      <td>67.5</td>\n",
       "    </tr>\n",
       "    <tr>\n",
       "      <th>(30, 40)</th>\n",
       "      <td>65000.0</td>\n",
       "      <td>57.5</td>\n",
       "    </tr>\n",
       "    <tr>\n",
       "      <th>(40, 50)</th>\n",
       "      <td>60000.0</td>\n",
       "      <td>75.0</td>\n",
       "    </tr>\n",
       "  </tbody>\n",
       "</table>\n",
       "</div>"
      ],
      "text/plain": [
       "           Income  SpendingScore\n",
       "AgeGroup                        \n",
       "(20, 30)  50000.0           67.5\n",
       "(30, 40)  65000.0           57.5\n",
       "(40, 50)  60000.0           75.0"
      ]
     },
     "execution_count": 29,
     "metadata": {},
     "output_type": "execute_result"
    }
   ],
   "source": [
    "grouped"
   ]
  },
  {
   "cell_type": "code",
   "execution_count": null,
   "id": "f3b20c83",
   "metadata": {},
   "outputs": [],
   "source": []
  },
  {
   "cell_type": "code",
   "execution_count": null,
   "id": "4b320823",
   "metadata": {},
   "outputs": [],
   "source": []
  },
  {
   "cell_type": "code",
   "execution_count": null,
   "id": "29f35698",
   "metadata": {},
   "outputs": [],
   "source": []
  }
 ],
 "metadata": {
  "kernelspec": {
   "display_name": "Python 3 (ipykernel)",
   "language": "python",
   "name": "python3"
  },
  "language_info": {
   "codemirror_mode": {
    "name": "ipython",
    "version": 3
   },
   "file_extension": ".py",
   "mimetype": "text/x-python",
   "name": "python",
   "nbconvert_exporter": "python",
   "pygments_lexer": "ipython3",
   "version": "3.8.10"
  }
 },
 "nbformat": 4,
 "nbformat_minor": 5
}
