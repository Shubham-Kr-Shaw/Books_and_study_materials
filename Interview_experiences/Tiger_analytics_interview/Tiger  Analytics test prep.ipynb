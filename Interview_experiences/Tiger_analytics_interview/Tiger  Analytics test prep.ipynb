{
 "cells": [
  {
   "cell_type": "markdown",
   "id": "ef58fe87",
   "metadata": {},
   "source": [
    "# Tiger analytics previously asked questions."
   ]
  },
  {
   "cell_type": "markdown",
   "id": "f21a2f1c",
   "metadata": {},
   "source": [
    "### Round 1:\n",
    "- 1) Explain any one of your previous projects.\n",
    "- 2) Drill down on the above question\n",
    "- 3) What are the feature selection techniques that you are aware of and when are they used\n",
    "- 4) Question on imputation techniques\n",
    "- 5) Python programming question to separate the repeating and non-repeating characters into separate lists from a given input string.\n",
    "\n",
    "### Round 2:\n",
    "- 1) Number of ways to climb a staircase Python coding question ( python live coding) \n",
    "- 2) question on pandas aggregate ( live coding) \n",
    "- 3) what is the probability of selecting a point on a circle which is near the rim rather than the centre - \n",
    "- 4) Bias variance tradeoff, is standardization required for tree-based algorithms, R square and Adjusted R square, How to avoid overfitting \n",
    "\n",
    "### Round 3:\n",
    "- 1) Pulled up a picture of a summary of stats of linear regression and asked to explain how to check if the coefficients are significant on not. what statistical test will you use \n",
    "- 2) Use case analysis HR \n",
    "\n",
    "### Round 4: \n",
    "\n",
    "- 1) Are you comfortable moving to Chennai \n",
    "- 2) family details"
   ]
  },
  {
   "cell_type": "markdown",
   "id": "68f8b6d1",
   "metadata": {},
   "source": [
    "## Things we need to follow.\n",
    "-  Understanding the foundational concepts and algorithms in machine learning is crucial. This includes regression and classification algorithms, their assumptions, strengths, and limitations.\n",
    "\n",
    "- Working knowledge of basic Optimization Techniques would be counted as an added advantage.\n",
    "\n",
    "- \n",
    "\n"
   ]
  },
  {
   "cell_type": "markdown",
   "id": "1963609d",
   "metadata": {},
   "source": [
    "- A passion for writing high-quality code (Python) and the code should be modular, scalable, and free of bugs.\n",
    "- Comprehensive knowledge of SQL with experience in office skills (Excel & PowerPoint)\n",
    "- Enthuse to collaborate with various stakeholders across the organization.\n",
    "- Adept understanding of various data science approaches, machine learning algorithms, and statistical methods.\n",
    "- Understanding the foundational concepts and algorithms in machine learning is crucial. This includes regression and classification algorithms, their assumptions, strengths, and limitations.\n",
    "- Working knowledge of basic Optimization Techniques would be counted as an added advantage.\n",
    "\n",
    " ## Must Have Skills: Regression, Python\n",
    " ## Good to have:   Customer Analytics or Marketing Analytics\n"
   ]
  },
  {
   "cell_type": "markdown",
   "id": "787dc58f",
   "metadata": {},
   "source": [
    "#### Good to have : Customer Analytics or Marketing Analytics"
   ]
  },
  {
   "cell_type": "markdown",
   "id": "698a5cfe",
   "metadata": {},
   "source": [
    "# Topics to cover\n",
    "\n",
    "-  Statastics\n",
    "-  **Permidation and combination**  ## important\n",
    "- Probablity\n",
    "- Data pre processing, missing valuses, imputation, outlier.\n",
    "- Puzzels \n",
    "- Probablity\n",
    "- Project\n",
    "- Python"
   ]
  },
  {
   "cell_type": "markdown",
   "id": "4947244c",
   "metadata": {},
   "source": [
    "# Questions asked.\n",
    "- What is the probability of getting 5 Sundays in 31 day month?\n",
    "- **As there are 31 days the no of complete weeks is 4 i.e 7 x 4 = 28 days we are left with 3 days and now we have to calculate the probablity of sundays for there 3 days which is 3/7.*\n",
    "\n",
    "\n",
    "\n",
    "\n",
    "- How can you prove to the client that a students with higher classes are taller than that of lower classes?\n",
    "- ****\n",
    "- 1. Confusion Matrix 2. \n",
    "- What is recall and precision? \n",
    "- 3. Explain about ROC curve \n",
    "- 4. Based on what RFE eliminate the features? \n",
    "- 5. SQL question which requires grouping \n",
    "- 6. How to read a dataframe, display top 5 rows, how to find summary statistics. \n",
    "- 7. Probability question, rolling 3dice and find probability of getting all three even \n",
    "- 8. Aptitude question, on percentage of poor group in a country.\n",
    "\n",
    "- Q9. How to handle imbalanced data in text analytics?\n",
    "- Q10. How to select features?\n",
    "- Q3. Cross Questioning on Regression, Classfication Problems. Dummy Variable Trap Statistics Questions\n",
    "- Q2. In Depth Knowledge on any one of your project.\n",
    "- Q4. Questions on Deep Learning Models working and architecture like RNN Exploding/Vanishing Gradient Problem, Solutions like LSTM, CNN model working and different terminologies used.\n",
    "- Q1. Again this round was pure Technical. All questions were on Data Science Projects and scenario based. \n",
    "- 2 Questions on Probability and **puzzle based.**\n",
    "- Q1. Q1. Implement python Collection Counter from Scratch.\n",
    "- \n",
    "- Q2. Q2. Do Matrix Multiplication. Q3. Implement Factorial and Fibonacci Series with different Approaches.\n",
    "- Q4. Q5. There were 100 coins. 99 Unbiased Coins, 1. Coin is biased. Derive the probability of getting 10 heads given the even of unbiased coins using Bayes Theorem.\n",
    "- Q1. Q1. Implement a Program to check if a number is power of 3 .\n",
    "- Q2. What will be the approach If all the features are categorical in Linear Regression. Q3. What is Dummy variable trap? If we don't remove dummy variable what will be the issue and does it impact performance of the model?\n",
    "- . You are standing in a field. Chances of seeing atleast 1 plane in 10 minutes is 15%. What is the probability of seeing atleast 1 plane in next 30 minutes?\n",
    "- Q5. If we select a random point in a circle of 1 unit radius what is the probability of appearing that point closer to the circumference , not closer to the centre.\n",
    "- Q2. What is entropy ? What is gini index? Give a real life example of derivative and second derivative. What is the difference between P-value and beta value? How do you handle imbalanced dataset? What is the difference between recall and precision? How do you calculate slope in one variable? Scenario based question, to choose between recall and precision. Coding: find inverse of matrix using pythone\n",
    "\n",
    "- Q1. Python Programming Constructs, Lists , Dictionaries\n",
    "- Q2. Knowledge of mathematical and statistical concepts were evaluated\n",
    "- Q3. Questions on evaluation metrics for Classification and Regression\n",
    "- Q3. What are decision Trees and All the algorithms that you have used in ur project?\n",
    "- Q1. How to handle imbalanced data in text analytics?\n",
    "- Q1. Business case study related to Data science\n",
    "- Q4. Difference between generator and iterator?\n",
    "- Q3. A question to count number of times a letter occurs in a sentence and then also find the maximum occurring letter.\n",
    "\n",
    "- If we select a random point in a circle of 1 unit radius what is the probability of appearing that point closer to the circumference , not closer to the centre.\n",
    "- What will be the approach If all the features are categorical in Linear Regression. Q3. What is Dummy variable trap? If we don't remove dummy variable what will be the issue and does it impact performance of the model?"
   ]
  },
  {
   "cell_type": "code",
   "execution_count": null,
   "id": "8460272b",
   "metadata": {},
   "outputs": [],
   "source": []
  },
  {
   "cell_type": "markdown",
   "id": "9cbfe49f",
   "metadata": {},
   "source": [
    "# Coding Practice"
   ]
  },
  {
   "cell_type": "markdown",
   "id": "ade05f91",
   "metadata": {},
   "source": [
    "### Number of ways to climb a staircase Python coding question (Python live coding) \n"
   ]
  },
  {
   "cell_type": "code",
   "execution_count": 371,
   "id": "7da3cab4",
   "metadata": {},
   "outputs": [
    {
     "data": {
      "text/plain": [
       "[0, 0, 0, 0, 0]"
      ]
     },
     "execution_count": 371,
     "metadata": {},
     "output_type": "execute_result"
    }
   ],
   "source": [
    "steps = [0]*5\n",
    "steps"
   ]
  },
  {
   "cell_type": "code",
   "execution_count": 372,
   "id": "93ae39a0",
   "metadata": {},
   "outputs": [],
   "source": [
    "steps[0] = 1\n",
    "steps[1] = 1"
   ]
  },
  {
   "cell_type": "code",
   "execution_count": 373,
   "id": "e2b54c65",
   "metadata": {},
   "outputs": [
    {
     "data": {
      "text/plain": [
       "[1, 1, 0, 0, 0]"
      ]
     },
     "execution_count": 373,
     "metadata": {},
     "output_type": "execute_result"
    }
   ],
   "source": [
    "steps"
   ]
  },
  {
   "cell_type": "code",
   "execution_count": 374,
   "id": "8cadd730",
   "metadata": {},
   "outputs": [],
   "source": [
    "for i in range(2, len(steps)):\n",
    "    steps[i]  = steps[(i-1)]+ steps[(i-2)]\n"
   ]
  },
  {
   "cell_type": "code",
   "execution_count": 375,
   "id": "eaaa8f3a",
   "metadata": {},
   "outputs": [
    {
     "data": {
      "text/plain": [
       "[1, 1, 2, 3, 5]"
      ]
     },
     "execution_count": 375,
     "metadata": {},
     "output_type": "execute_result"
    }
   ],
   "source": [
    "steps"
   ]
  },
  {
   "cell_type": "code",
   "execution_count": 321,
   "id": "15fc68ca",
   "metadata": {},
   "outputs": [
    {
     "name": "stdout",
     "output_type": "stream",
     "text": [
      "0\n",
      "1\n",
      "1\n",
      "2\n",
      "3\n",
      "5\n",
      "8\n",
      "13\n",
      "21\n",
      "34\n"
     ]
    }
   ],
   "source": [
    "n = 5\n",
    "a= 0\n",
    "b= 1\n",
    "print(a)\n",
    "print(b)\n",
    "for i in range(2,10):\n",
    "    fibbo = a + b\n",
    "    a = b\n",
    "    b = fibbo\n",
    "    print(fibbo)"
   ]
  },
  {
   "cell_type": "code",
   "execution_count": 367,
   "id": "b4a2d25f",
   "metadata": {},
   "outputs": [
    {
     "name": "stdout",
     "output_type": "stream",
     "text": [
      "0\n",
      "1\n",
      "1\n",
      "2\n",
      "3\n",
      "5\n",
      "8\n",
      "13\n",
      "21\n",
      "34\n"
     ]
    }
   ],
   "source": [
    "def fibbo(n):\n",
    "    if n <= 1:\n",
    "        return n\n",
    "    \n",
    "    return(fibbo(n-1) + fibbo(n-2))\n",
    "\n",
    "for i in range(10):\n",
    "    print(fibbo(i))"
   ]
  },
  {
   "cell_type": "code",
   "execution_count": 358,
   "id": "7d528323",
   "metadata": {},
   "outputs": [],
   "source": [
    "def fibonacci_recursive(n):\n",
    "    if n <= 0:\n",
    "        return []\n",
    "    if n == 1:\n",
    "        return [0]\n",
    "    if n == 2:\n",
    "        return [0, 1]\n",
    "    \n",
    "    fib_series = fibonacci_recursive(n - 1)\n",
    "    fib_series.append(fib_series[-1] + fib_series[-2])\n",
    "    return fib_series\n"
   ]
  },
  {
   "cell_type": "code",
   "execution_count": 359,
   "id": "6558d5c9",
   "metadata": {},
   "outputs": [
    {
     "data": {
      "text/plain": [
       "[0, 1, 1, 2, 3, 5, 8, 13, 21, 34]"
      ]
     },
     "execution_count": 359,
     "metadata": {},
     "output_type": "execute_result"
    }
   ],
   "source": [
    "fibonacci_recursive(10)"
   ]
  },
  {
   "cell_type": "code",
   "execution_count": 361,
   "id": "01987fb8",
   "metadata": {},
   "outputs": [],
   "source": [
    "def fibbo(n):\n",
    "    if n <= 1:\n",
    "        return 1\n",
    "    else:\n",
    "        fibb = fibbo(n-1) + fibbo(n-2)\n",
    "        return fibb"
   ]
  },
  {
   "cell_type": "code",
   "execution_count": 363,
   "id": "a3ed5024",
   "metadata": {},
   "outputs": [
    {
     "name": "stdout",
     "output_type": "stream",
     "text": [
      "1\n",
      "1\n",
      "2\n",
      "3\n",
      "5\n",
      "8\n",
      "13\n",
      "21\n",
      "34\n",
      "55\n"
     ]
    }
   ],
   "source": [
    "for i in range(10):\n",
    "    print(fibbo(i))"
   ]
  },
  {
   "cell_type": "markdown",
   "id": "19f47c53",
   "metadata": {},
   "source": [
    "## Question on pandas aggregate ( live coding) \n"
   ]
  },
  {
   "cell_type": "code",
   "execution_count": null,
   "id": "00e6bd9e",
   "metadata": {},
   "outputs": [],
   "source": []
  },
  {
   "cell_type": "code",
   "execution_count": null,
   "id": "1a6da252",
   "metadata": {},
   "outputs": [],
   "source": []
  },
  {
   "cell_type": "code",
   "execution_count": null,
   "id": "07946253",
   "metadata": {},
   "outputs": [],
   "source": []
  },
  {
   "cell_type": "code",
   "execution_count": null,
   "id": "3fb66cd3",
   "metadata": {},
   "outputs": [],
   "source": []
  },
  {
   "cell_type": "markdown",
   "id": "5414732e",
   "metadata": {},
   "source": [
    "#### Pulled up a picture of a summary of stats of linear regression and asked to explain how to check if the coefficients are significant on not. what statistical test will you use \n"
   ]
  },
  {
   "cell_type": "code",
   "execution_count": null,
   "id": "51e0c7c9",
   "metadata": {},
   "outputs": [],
   "source": []
  },
  {
   "cell_type": "code",
   "execution_count": null,
   "id": "04574490",
   "metadata": {},
   "outputs": [],
   "source": []
  },
  {
   "cell_type": "code",
   "execution_count": null,
   "id": "c0691a6f",
   "metadata": {},
   "outputs": [],
   "source": []
  },
  {
   "cell_type": "code",
   "execution_count": null,
   "id": "096a3177",
   "metadata": {},
   "outputs": [],
   "source": []
  },
  {
   "cell_type": "markdown",
   "id": "6b994bc4",
   "metadata": {},
   "source": [
    "## SQL question which requires grouping "
   ]
  },
  {
   "cell_type": "code",
   "execution_count": null,
   "id": "421b8c9d",
   "metadata": {},
   "outputs": [],
   "source": []
  },
  {
   "cell_type": "code",
   "execution_count": null,
   "id": "9b449648",
   "metadata": {},
   "outputs": [],
   "source": []
  },
  {
   "cell_type": "code",
   "execution_count": null,
   "id": "8e18a83e",
   "metadata": {},
   "outputs": [],
   "source": []
  },
  {
   "cell_type": "code",
   "execution_count": null,
   "id": "6f24f848",
   "metadata": {},
   "outputs": [],
   "source": []
  },
  {
   "cell_type": "code",
   "execution_count": null,
   "id": "71240ded",
   "metadata": {},
   "outputs": [],
   "source": []
  },
  {
   "cell_type": "markdown",
   "id": "71840dcb",
   "metadata": {},
   "source": [
    "## How to read a data frame, display top 5 rows, to find summary statistics. \n"
   ]
  },
  {
   "cell_type": "code",
   "execution_count": null,
   "id": "9a2a3ac7",
   "metadata": {},
   "outputs": [],
   "source": []
  },
  {
   "cell_type": "code",
   "execution_count": null,
   "id": "86b954a8",
   "metadata": {},
   "outputs": [],
   "source": []
  },
  {
   "cell_type": "code",
   "execution_count": null,
   "id": "019c30a5",
   "metadata": {},
   "outputs": [],
   "source": []
  },
  {
   "cell_type": "code",
   "execution_count": null,
   "id": "1c27b876",
   "metadata": {},
   "outputs": [],
   "source": []
  },
  {
   "cell_type": "code",
   "execution_count": null,
   "id": "1d105596",
   "metadata": {},
   "outputs": [],
   "source": []
  },
  {
   "cell_type": "code",
   "execution_count": null,
   "id": "7c01c5a4",
   "metadata": {},
   "outputs": [],
   "source": []
  },
  {
   "cell_type": "markdown",
   "id": "ccdc3187",
   "metadata": {},
   "source": [
    "### Implement a Program to check if a number is power of 3 .\n"
   ]
  },
  {
   "cell_type": "code",
   "execution_count": 253,
   "id": "42a739d0",
   "metadata": {},
   "outputs": [],
   "source": [
    "def check_pow_of(n,power):\n",
    "    n_root = math.log(n, power)\n",
    "    \n",
    "    if (abs(round(n_root)- n_root)<0.000000001):\n",
    "        print(power ,\"to the power of \",round(n_root) ,\" = \" ,n)\n",
    "    else: \n",
    "        print(False)\n"
   ]
  },
  {
   "cell_type": "code",
   "execution_count": 258,
   "id": "553807f0",
   "metadata": {},
   "outputs": [
    {
     "name": "stdout",
     "output_type": "stream",
     "text": [
      "3 to the power of  5  =  243\n"
     ]
    }
   ],
   "source": [
    "check_pow_of(243,3)"
   ]
  },
  {
   "cell_type": "code",
   "execution_count": 266,
   "id": "19bf4ad4",
   "metadata": {},
   "outputs": [
    {
     "name": "stdout",
     "output_type": "stream",
     "text": [
      "81.0\n",
      "27.0\n",
      "9.0\n",
      "3.0\n",
      "1.0\n"
     ]
    }
   ],
   "source": [
    "n = 243\n",
    "while n%3 == 0:\n",
    "    n = n/3\n",
    "    print(n)"
   ]
  },
  {
   "cell_type": "code",
   "execution_count": 285,
   "id": "a78155ed",
   "metadata": {},
   "outputs": [
    {
     "name": "stdout",
     "output_type": "stream",
     "text": [
      "True\n"
     ]
    }
   ],
   "source": [
    "def isPowerOfThree(n):\n",
    "    if n <= 0:\n",
    "        return False\n",
    "\n",
    "    while n % 3 == 0:\n",
    "        n /= 3\n",
    "\n",
    "    return n == 1\n",
    "\n",
    "# Test cases\n",
    "print(isPowerOfThree(243)) "
   ]
  },
  {
   "cell_type": "markdown",
   "id": "7b22f4a5",
   "metadata": {},
   "source": [
    "## Perfect cube"
   ]
  },
  {
   "cell_type": "code",
   "execution_count": 286,
   "id": "a15bb0db",
   "metadata": {},
   "outputs": [],
   "source": [
    "def perfect_cube(n):\n",
    "    cube_root = (n**(1/3))\n",
    "    if abs(round(cube_root)-cube_root) < 0.00000000001:\n",
    "        return True\n",
    "    "
   ]
  },
  {
   "cell_type": "code",
   "execution_count": 287,
   "id": "fdf4b1de",
   "metadata": {},
   "outputs": [
    {
     "data": {
      "text/plain": [
       "True"
      ]
     },
     "execution_count": 287,
     "metadata": {},
     "output_type": "execute_result"
    }
   ],
   "source": [
    "perfect_cube(1331)"
   ]
  },
  {
   "cell_type": "markdown",
   "id": "bf6e0c6c",
   "metadata": {},
   "source": [
    "## Coding: find inverse of matrix using python\n"
   ]
  },
  {
   "cell_type": "code",
   "execution_count": null,
   "id": "8e19e8e8",
   "metadata": {},
   "outputs": [],
   "source": []
  },
  {
   "cell_type": "code",
   "execution_count": null,
   "id": "6bfbc8c3",
   "metadata": {},
   "outputs": [],
   "source": []
  },
  {
   "cell_type": "code",
   "execution_count": null,
   "id": "638b5080",
   "metadata": {},
   "outputs": [],
   "source": []
  },
  {
   "cell_type": "code",
   "execution_count": null,
   "id": "7dbd77b9",
   "metadata": {},
   "outputs": [],
   "source": []
  },
  {
   "cell_type": "markdown",
   "id": "52a9ba20",
   "metadata": {},
   "source": [
    "## Python Programming Constructs, Lists , Dictionaries\n"
   ]
  },
  {
   "cell_type": "code",
   "execution_count": null,
   "id": "89abf898",
   "metadata": {},
   "outputs": [],
   "source": []
  },
  {
   "cell_type": "code",
   "execution_count": null,
   "id": "06fbb3b3",
   "metadata": {},
   "outputs": [],
   "source": []
  },
  {
   "cell_type": "code",
   "execution_count": null,
   "id": "faad6ad9",
   "metadata": {},
   "outputs": [],
   "source": []
  },
  {
   "cell_type": "code",
   "execution_count": null,
   "id": "b91496a9",
   "metadata": {},
   "outputs": [],
   "source": []
  },
  {
   "cell_type": "code",
   "execution_count": null,
   "id": "0ad5dba4",
   "metadata": {},
   "outputs": [],
   "source": []
  },
  {
   "cell_type": "markdown",
   "id": "8c7a0c97",
   "metadata": {},
   "source": [
    "## Factorial"
   ]
  },
  {
   "cell_type": "code",
   "execution_count": 106,
   "id": "95ec184b",
   "metadata": {},
   "outputs": [
    {
     "data": {
      "text/plain": [
       "120"
      ]
     },
     "execution_count": 106,
     "metadata": {},
     "output_type": "execute_result"
    }
   ],
   "source": [
    "num = 5\n",
    "fact = 1\n",
    "for i in range (2,num+1):\n",
    "#     print(i)\n",
    "    fact = fact*i\n",
    "fact"
   ]
  },
  {
   "cell_type": "code",
   "execution_count": 102,
   "id": "82c16f41",
   "metadata": {},
   "outputs": [
    {
     "data": {
      "text/plain": [
       "120"
      ]
     },
     "execution_count": 102,
     "metadata": {},
     "output_type": "execute_result"
    }
   ],
   "source": [
    "def fact(n):\n",
    "    res = 1\n",
    "    if n >= 1:\n",
    "        res = n * fact(n-1)\n",
    "    return res\n",
    "\n",
    "fact(5)    \n",
    "    "
   ]
  },
  {
   "cell_type": "code",
   "execution_count": 93,
   "id": "91c5d55b",
   "metadata": {},
   "outputs": [
    {
     "data": {
      "text/plain": [
       "120"
      ]
     },
     "execution_count": 93,
     "metadata": {},
     "output_type": "execute_result"
    }
   ],
   "source": [
    "import math\n",
    "math.factorial(5)"
   ]
  },
  {
   "cell_type": "code",
   "execution_count": 107,
   "id": "61f56832",
   "metadata": {},
   "outputs": [
    {
     "data": {
      "text/plain": [
       "120"
      ]
     },
     "execution_count": 107,
     "metadata": {},
     "output_type": "execute_result"
    }
   ],
   "source": [
    "import numpy\n",
    "math.prod(range(1,6))"
   ]
  },
  {
   "cell_type": "code",
   "execution_count": 109,
   "id": "464e410e",
   "metadata": {},
   "outputs": [
    {
     "data": {
      "text/plain": [
       "[1, 2, 3, 4, 5]"
      ]
     },
     "execution_count": 109,
     "metadata": {},
     "output_type": "execute_result"
    }
   ],
   "source": [
    "list1"
   ]
  },
  {
   "cell_type": "code",
   "execution_count": 108,
   "id": "b59e8798",
   "metadata": {},
   "outputs": [
    {
     "data": {
      "text/plain": [
       "120"
      ]
     },
     "execution_count": 108,
     "metadata": {},
     "output_type": "execute_result"
    }
   ],
   "source": [
    "from functools import reduce\n",
    "fact = reduce((lambda x, y : x*y), list1)\n",
    "fact"
   ]
  },
  {
   "cell_type": "markdown",
   "id": "2c5eb6d0",
   "metadata": {},
   "source": [
    "## Soting without sort():\n"
   ]
  },
  {
   "cell_type": "code",
   "execution_count": 433,
   "id": "a7a5fe90",
   "metadata": {},
   "outputs": [],
   "source": [
    "list1 = [2,2,0,0,1]\n",
    "# list1.sort()\n",
    "# list1"
   ]
  },
  {
   "cell_type": "code",
   "execution_count": 401,
   "id": "0b7b8155",
   "metadata": {},
   "outputs": [
    {
     "data": {
      "text/plain": [
       "[0, 0, 1, 2, 2]"
      ]
     },
     "execution_count": 401,
     "metadata": {},
     "output_type": "execute_result"
    }
   ],
   "source": [
    "list2 = sorted(list1)\n",
    "list2"
   ]
  },
  {
   "cell_type": "code",
   "execution_count": 436,
   "id": "8c6a4afb",
   "metadata": {},
   "outputs": [],
   "source": [
    "lst=[76, 23, 45, 12, 54, 9]\n"
   ]
  },
  {
   "cell_type": "code",
   "execution_count": 434,
   "id": "09e30aa8",
   "metadata": {},
   "outputs": [],
   "source": [
    "def sort_lst(l):\n",
    "    new_lst = []\n",
    "    for i in range(len(l)):\n",
    "        new_lst.append(min(l))\n",
    "        l.remove(min(l))\n",
    "    return new_lst\n"
   ]
  },
  {
   "cell_type": "code",
   "execution_count": 435,
   "id": "7ce4ec04",
   "metadata": {},
   "outputs": [
    {
     "data": {
      "text/plain": [
       "[0, 0, 1, 2, 2]"
      ]
     },
     "execution_count": 435,
     "metadata": {},
     "output_type": "execute_result"
    }
   ],
   "source": [
    "sort_lst(list1)"
   ]
  },
  {
   "cell_type": "code",
   "execution_count": 429,
   "id": "962cd9ae",
   "metadata": {},
   "outputs": [],
   "source": [
    "list1.remove((min(list1)))\n",
    "# min(list1)"
   ]
  },
  {
   "cell_type": "code",
   "execution_count": 437,
   "id": "2d7a80de",
   "metadata": {},
   "outputs": [
    {
     "data": {
      "text/plain": [
       "[]"
      ]
     },
     "execution_count": 437,
     "metadata": {},
     "output_type": "execute_result"
    }
   ],
   "source": [
    "for i in range(len(lst)):\n",
    "    for j in range(i,len(lst))"
   ]
  },
  {
   "cell_type": "code",
   "execution_count": null,
   "id": "baf165d4",
   "metadata": {},
   "outputs": [],
   "source": []
  },
  {
   "cell_type": "code",
   "execution_count": null,
   "id": "41c790ba",
   "metadata": {},
   "outputs": [],
   "source": []
  },
  {
   "cell_type": "code",
   "execution_count": null,
   "id": "c73b06d2",
   "metadata": {},
   "outputs": [],
   "source": []
  },
  {
   "cell_type": "markdown",
   "id": "40819b2e",
   "metadata": {},
   "source": [
    "## Second highest"
   ]
  },
  {
   "cell_type": "code",
   "execution_count": 16,
   "id": "49e5783e",
   "metadata": {},
   "outputs": [
    {
     "name": "stdout",
     "output_type": "stream",
     "text": [
      "The second highest element is: 4\n",
      "Time taken: 1.9073486328125e-06 seconds\n"
     ]
    }
   ],
   "source": [
    "import time\n",
    "\n",
    "def find_second_highest(arr):\n",
    "    if len(arr) < 2:\n",
    "        return \"Array should have at least two elements\"\n",
    "\n",
    "    highest = second_highest = float('-inf')  # Initialize both variables to negative infinity\n",
    "\n",
    "    start_time = time.time()  # Record the start time\n",
    "\n",
    "    for num in arr:\n",
    "        if num > highest:\n",
    "            second_highest = highest\n",
    "            highest = num\n",
    "        elif num > second_highest and num != highest:\n",
    "            second_highest = num\n",
    "\n",
    "    end_time = time.time()  # Record the end time\n",
    "    execution_time = end_time - start_time  # Calculate the execution time\n",
    "\n",
    "    if second_highest == float('-inf'):\n",
    "        return \"There is no second highest element in the array\"\n",
    "    else:\n",
    "        return second_highest, execution_time\n",
    "\n",
    "# Example usage:\n",
    "arr = [4, 2, 1, 5, 3, 5, 4]\n",
    "result, time_taken = find_second_highest(arr)\n",
    "print(\"The second highest element is:\", result)\n",
    "print(\"Time taken:\", time_taken, \"seconds\")\n"
   ]
  },
  {
   "cell_type": "code",
   "execution_count": 41,
   "id": "e30004dd",
   "metadata": {},
   "outputs": [
    {
     "name": "stdout",
     "output_type": "stream",
     "text": [
      "9\n",
      "Time taken: 1.9073486328125e-06 seconds\n"
     ]
    }
   ],
   "source": [
    "start_time = time.time()  # Record the start time\n",
    "arr = [4, 2, 9, 10, 10, 5, 4]\n",
    "a = sorted(set(arr))\n",
    "print(a[-2])\n",
    "end_time = time.time()\n",
    "execution_time = end_time - start_time  # Calculate the execution time\n",
    "print(\"Time taken:\", time_taken, \"seconds\")\n"
   ]
  },
  {
   "cell_type": "code",
   "execution_count": 23,
   "id": "410afbfa",
   "metadata": {},
   "outputs": [
    {
     "data": {
      "text/plain": [
       "5"
      ]
     },
     "execution_count": 23,
     "metadata": {},
     "output_type": "execute_result"
    }
   ],
   "source": [
    "arr = [4, 2, 9, 10, 10, 5, 4]\n"
   ]
  },
  {
   "cell_type": "code",
   "execution_count": 368,
   "id": "efecef6e",
   "metadata": {},
   "outputs": [],
   "source": [
    "string = 'dddhiolhnklnsdklnsdjkdsfkndfhdfkk'\n",
    "uni_char = set(string)"
   ]
  },
  {
   "cell_type": "code",
   "execution_count": 369,
   "id": "97959a85",
   "metadata": {},
   "outputs": [],
   "source": [
    "char_count = {}\n",
    "for char in uni_char:\n",
    "    char_count[char] = string.count(char)\n",
    "    "
   ]
  },
  {
   "cell_type": "code",
   "execution_count": 370,
   "id": "493601c0",
   "metadata": {},
   "outputs": [
    {
     "name": "stdout",
     "output_type": "stream",
     "text": [
      "d\n"
     ]
    },
    {
     "data": {
      "text/plain": [
       "8"
      ]
     },
     "execution_count": 370,
     "metadata": {},
     "output_type": "execute_result"
    }
   ],
   "source": [
    "print(max(char_count, key  = char_count.get))\n",
    "char_count [max(char_count, key  = char_count.get)]"
   ]
  },
  {
   "cell_type": "code",
   "execution_count": 18,
   "id": "03ce6c3c",
   "metadata": {},
   "outputs": [],
   "source": [
    "n = \"9875\"\n",
    "k = 4\n"
   ]
  },
  {
   "cell_type": "code",
   "execution_count": 17,
   "id": "a5809471",
   "metadata": {},
   "outputs": [
    {
     "data": {
      "text/plain": [
       "39500"
      ]
     },
     "execution_count": 17,
     "metadata": {},
     "output_type": "execute_result"
    }
   ],
   "source": [
    "n = int(n)*k\n",
    "n\n"
   ]
  },
  {
   "cell_type": "code",
   "execution_count": null,
   "id": "21fd8984",
   "metadata": {},
   "outputs": [],
   "source": [
    "list_of_number = list(map(int, f_string.strip()))\n",
    "list_of_number"
   ]
  },
  {
   "cell_type": "code",
   "execution_count": 6,
   "id": "db4727bf",
   "metadata": {},
   "outputs": [],
   "source": [
    "new_num = str(sum(list_of_number))\n"
   ]
  },
  {
   "cell_type": "code",
   "execution_count": 11,
   "id": "dbc236fc",
   "metadata": {},
   "outputs": [
    {
     "name": "stdout",
     "output_type": "stream",
     "text": [
      "116\n",
      "8\n"
     ]
    }
   ],
   "source": [
    "while len(n)>1:\n",
    "    n = str(sum(map(int,n)))\n",
    "    print(n)"
   ]
  },
  {
   "cell_type": "code",
   "execution_count": 19,
   "id": "795e2f88",
   "metadata": {},
   "outputs": [
    {
     "data": {
      "text/plain": [
       "'29'"
      ]
     },
     "execution_count": 19,
     "metadata": {},
     "output_type": "execute_result"
    }
   ],
   "source": [
    "str(sum(map(int,n)))"
   ]
  },
  {
   "cell_type": "code",
   "execution_count": 62,
   "id": "a5ed4c68",
   "metadata": {},
   "outputs": [],
   "source": [
    "def nthStair(n):\n",
    "    if n == 1:\n",
    "        return 1\n",
    "    elif n ==2:\n",
    "        return 2\n",
    "\n",
    "    else:\n",
    "\n",
    "        a = 1\n",
    "        b = 1\n",
    "        for i in range(n-2):\n",
    "            c = a+b\n",
    "            a = b\n",
    "            b = c\n",
    "            print(c)\n",
    "#         print(c)\n"
   ]
  },
  {
   "cell_type": "code",
   "execution_count": 63,
   "id": "52206c2c",
   "metadata": {},
   "outputs": [
    {
     "name": "stdout",
     "output_type": "stream",
     "text": [
      "2\n",
      "3\n"
     ]
    }
   ],
   "source": [
    "nthStair(4)"
   ]
  },
  {
   "cell_type": "code",
   "execution_count": 21,
   "id": "463692c8",
   "metadata": {},
   "outputs": [],
   "source": [
    "n = 10"
   ]
  },
  {
   "cell_type": "markdown",
   "id": "4977ef2b",
   "metadata": {},
   "source": []
  },
  {
   "cell_type": "code",
   "execution_count": 22,
   "id": "fe249e26",
   "metadata": {},
   "outputs": [],
   "source": [
    "ways = [0] * (n + 1)\n"
   ]
  },
  {
   "cell_type": "code",
   "execution_count": 23,
   "id": "7fd61386",
   "metadata": {},
   "outputs": [
    {
     "data": {
      "text/plain": [
       "[0, 0, 0, 0, 0, 0, 0, 0, 0, 0, 0]"
      ]
     },
     "execution_count": 23,
     "metadata": {},
     "output_type": "execute_result"
    }
   ],
   "source": [
    "ways"
   ]
  },
  {
   "cell_type": "code",
   "execution_count": 24,
   "id": "d7f537ed",
   "metadata": {},
   "outputs": [],
   "source": [
    "ways[0] = 1\n",
    "ways[1] = 1\n"
   ]
  },
  {
   "cell_type": "code",
   "execution_count": 25,
   "id": "84a2c50e",
   "metadata": {},
   "outputs": [],
   "source": [
    "for i in range (2, (n+1)):\n",
    "    ways[i] = ways[i-1]+ways[i-2]\n",
    "    "
   ]
  },
  {
   "cell_type": "code",
   "execution_count": 26,
   "id": "de496101",
   "metadata": {},
   "outputs": [
    {
     "data": {
      "text/plain": [
       "[1, 1, 2, 3, 5, 8, 13, 21, 34, 55, 89]"
      ]
     },
     "execution_count": 26,
     "metadata": {},
     "output_type": "execute_result"
    }
   ],
   "source": [
    "ways"
   ]
  },
  {
   "cell_type": "markdown",
   "id": "787bc1c4",
   "metadata": {},
   "source": [
    "### Saperating the repeting and non repating letter in a string.\n"
   ]
  },
  {
   "cell_type": "code",
   "execution_count": 116,
   "id": "105a2ae2",
   "metadata": {},
   "outputs": [
    {
     "name": "stdout",
     "output_type": "stream",
     "text": [
      "p\n",
      "e\n"
     ]
    }
   ],
   "source": [
    "\n",
    "\n",
    "str1 =  \"Appleee\"\n",
    "char_count = {}\n",
    "for char in str1:\n",
    "    if char in char_count:\n",
    "        char_count[char] += 1\n",
    "    else:\n",
    "        char_count[char] = 1\n",
    "for char, count in char_count.items():\n",
    "    if count>1:\n",
    "        print(char) "
   ]
  },
  {
   "cell_type": "code",
   "execution_count": 117,
   "id": "b5f4190b",
   "metadata": {},
   "outputs": [
    {
     "data": {
      "text/plain": [
       "{'A': 1, 'p': 2, 'l': 1, 'e': 3}"
      ]
     },
     "execution_count": 117,
     "metadata": {},
     "output_type": "execute_result"
    }
   ],
   "source": [
    "char_count"
   ]
  },
  {
   "cell_type": "markdown",
   "id": "d77b9229",
   "metadata": {},
   "source": [
    "### Matix manuplication"
   ]
  },
  {
   "cell_type": "code",
   "execution_count": 82,
   "id": "114bf4c9",
   "metadata": {},
   "outputs": [],
   "source": [
    "A = [[12, 7, 3],\n",
    "    [4, 5, 6],\n",
    "    [7, 8, 9]]\n",
    " \n",
    "# take a 3x4 matrix\n",
    "B = [[5, 8, 1, 2],\n",
    "    [6, 7, 3, 0],\n",
    "    [4, 5, 9, 1]]"
   ]
  },
  {
   "cell_type": "code",
   "execution_count": null,
   "id": "7c3300eb",
   "metadata": {},
   "outputs": [],
   "source": []
  },
  {
   "cell_type": "code",
   "execution_count": 83,
   "id": "db6409e3",
   "metadata": {},
   "outputs": [
    {
     "data": {
      "text/plain": [
       "array([[114, 160,  60,  27],\n",
       "       [ 74,  97,  73,  14],\n",
       "       [119, 157, 112,  23]])"
      ]
     },
     "execution_count": 83,
     "metadata": {},
     "output_type": "execute_result"
    }
   ],
   "source": [
    "import numpy as np\n",
    "result = np.dot(A,B)\n",
    "result"
   ]
  },
  {
   "cell_type": "code",
   "execution_count": 90,
   "id": "5be5313e",
   "metadata": {},
   "outputs": [
    {
     "data": {
      "text/plain": [
       "[[0, 0, 0, 0], [0, 0, 0, 0], [0, 0, 0, 0]]"
      ]
     },
     "execution_count": 90,
     "metadata": {},
     "output_type": "execute_result"
    }
   ],
   "source": [
    "result = [[ 0 for i in range(len(B[0]))] for j in range(len(B))]\n",
    "result"
   ]
  },
  {
   "cell_type": "code",
   "execution_count": 91,
   "id": "16e3e123",
   "metadata": {},
   "outputs": [
    {
     "data": {
      "text/plain": [
       "[[114, 160, 60, 27], [74, 97, 73, 14], [119, 157, 112, 23]]"
      ]
     },
     "execution_count": 91,
     "metadata": {},
     "output_type": "execute_result"
    }
   ],
   "source": [
    "for i in range(len(A)):\n",
    "    for j in range(len(B[0])):\n",
    "        for k in range(len(B)):\n",
    "            result[i][j] += A[i][k] * B[k][j]\n",
    "            \n",
    "result"
   ]
  },
  {
   "cell_type": "code",
   "execution_count": 59,
   "id": "bf1240d4",
   "metadata": {},
   "outputs": [
    {
     "data": {
      "text/plain": [
       "4"
      ]
     },
     "execution_count": 59,
     "metadata": {},
     "output_type": "execute_result"
    }
   ],
   "source": [
    "len(B[0])"
   ]
  },
  {
   "cell_type": "code",
   "execution_count": 76,
   "id": "6df7e8db",
   "metadata": {},
   "outputs": [
    {
     "data": {
      "text/plain": [
       "16"
      ]
     },
     "execution_count": 76,
     "metadata": {},
     "output_type": "execute_result"
    }
   ],
   "source": []
  },
  {
   "cell_type": "markdown",
   "id": "a8cc6650",
   "metadata": {},
   "source": [
    "## Rotate the matrix"
   ]
  },
  {
   "cell_type": "code",
   "execution_count": 533,
   "id": "5e8c8d11",
   "metadata": {},
   "outputs": [],
   "source": [
    "matrix = [[1,2,3],[4,5,6],[7,8,9]]"
   ]
  },
  {
   "cell_type": "code",
   "execution_count": 491,
   "id": "4dceee0c",
   "metadata": {},
   "outputs": [
    {
     "data": {
      "text/plain": [
       "1"
      ]
     },
     "execution_count": 491,
     "metadata": {},
     "output_type": "execute_result"
    }
   ],
   "source": [
    "matrix[0][0]"
   ]
  },
  {
   "cell_type": "code",
   "execution_count": 492,
   "id": "1aec43db",
   "metadata": {},
   "outputs": [
    {
     "data": {
      "text/plain": [
       "7"
      ]
     },
     "execution_count": 492,
     "metadata": {},
     "output_type": "execute_result"
    }
   ],
   "source": [
    "matrix[-1][0]"
   ]
  },
  {
   "cell_type": "code",
   "execution_count": 493,
   "id": "8a95840c",
   "metadata": {},
   "outputs": [
    {
     "data": {
      "text/plain": [
       "2"
      ]
     },
     "execution_count": 493,
     "metadata": {},
     "output_type": "execute_result"
    }
   ],
   "source": [
    "matrix[0][1]"
   ]
  },
  {
   "cell_type": "code",
   "execution_count": 443,
   "id": "3c995fdf",
   "metadata": {},
   "outputs": [
    {
     "data": {
      "text/plain": [
       "4"
      ]
     },
     "execution_count": 443,
     "metadata": {},
     "output_type": "execute_result"
    }
   ],
   "source": [
    "matrix[-2][0]"
   ]
  },
  {
   "cell_type": "code",
   "execution_count": 496,
   "id": "d120551e",
   "metadata": {},
   "outputs": [
    {
     "data": {
      "text/plain": [
       "3"
      ]
     },
     "execution_count": 496,
     "metadata": {},
     "output_type": "execute_result"
    }
   ],
   "source": [
    "matrix[0][2]"
   ]
  },
  {
   "cell_type": "code",
   "execution_count": 444,
   "id": "e931e878",
   "metadata": {},
   "outputs": [
    {
     "data": {
      "text/plain": [
       "1"
      ]
     },
     "execution_count": 444,
     "metadata": {},
     "output_type": "execute_result"
    }
   ],
   "source": [
    "matrix[-3][0]"
   ]
  },
  {
   "cell_type": "code",
   "execution_count": null,
   "id": "f94aa79d",
   "metadata": {},
   "outputs": [],
   "source": [
    "[[1,2,3],\n",
    " [4,5,6],\n",
    " [7,8,9]]"
   ]
  },
  {
   "cell_type": "code",
   "execution_count": 534,
   "id": "df229b74",
   "metadata": {},
   "outputs": [
    {
     "name": "stdout",
     "output_type": "stream",
     "text": [
      "0 0\n",
      "0 1\n",
      "0 2\n",
      "1 0\n",
      "1 1\n",
      "1 2\n",
      "2 0\n",
      "2 1\n",
      "2 2\n"
     ]
    }
   ],
   "source": [
    "for i in range(len(matrix)):\n",
    "    for j in range(len(matrix)):\n",
    "        print(i,j)"
   ]
  },
  {
   "cell_type": "code",
   "execution_count": null,
   "id": "de112fa8",
   "metadata": {},
   "outputs": [],
   "source": [
    "0,0  0,1  0,2\n",
    "1,0  1,1  1,2\n",
    "2,0  2,1  2,2\n"
   ]
  },
  {
   "cell_type": "code",
   "execution_count": 573,
   "id": "1477eaee",
   "metadata": {},
   "outputs": [],
   "source": [
    "matrix = [[1,2,3],[4,5,6],[7,8,9]]"
   ]
  },
  {
   "cell_type": "code",
   "execution_count": 580,
   "id": "d0c313c3",
   "metadata": {},
   "outputs": [],
   "source": [
    "import copy\n",
    "\n",
    "rotated_matrix = copy.deepcopy(matrix)\n",
    "\n"
   ]
  },
  {
   "cell_type": "code",
   "execution_count": 581,
   "id": "994551c1",
   "metadata": {},
   "outputs": [
    {
     "name": "stdout",
     "output_type": "stream",
     "text": [
      "741\n",
      "852\n",
      "963\n"
     ]
    }
   ],
   "source": [
    "for i in range(len(matrix)):\n",
    "    for j in range(len(matrix)):\n",
    "        print(matrix[-j-1][i], end = '')\n",
    "    print()\n",
    "#         print(-j-1,i)"
   ]
  },
  {
   "cell_type": "code",
   "execution_count": 582,
   "id": "a811ab74",
   "metadata": {},
   "outputs": [],
   "source": [
    "import copy\n",
    "\n",
    "rotated_matrix = copy.deepcopy(matrix)\n",
    "\n",
    "for i in range(len(matrix)):\n",
    "    for j in range(len(matrix)):\n",
    "        rotated_matrix[i][j] = matrix[-j-1][i]\n",
    "#     print()"
   ]
  },
  {
   "cell_type": "code",
   "execution_count": 583,
   "id": "f8125edb",
   "metadata": {},
   "outputs": [
    {
     "data": {
      "text/plain": [
       "[[7, 4, 1], [8, 5, 2], [9, 6, 3]]"
      ]
     },
     "execution_count": 583,
     "metadata": {},
     "output_type": "execute_result"
    }
   ],
   "source": [
    "rotated_matrix"
   ]
  },
  {
   "cell_type": "code",
   "execution_count": null,
   "id": "f925288b",
   "metadata": {},
   "outputs": [],
   "source": [
    "2,0  1,0  0,0\n",
    "2,1  1,1  0,1\n",
    "2,2  1,2  0,2"
   ]
  },
  {
   "cell_type": "code",
   "execution_count": 455,
   "id": "f9af1192",
   "metadata": {},
   "outputs": [
    {
     "data": {
      "text/plain": [
       "[[7, 4, 1], [8, 5, 2], [9, 6, 3]]"
      ]
     },
     "execution_count": 455,
     "metadata": {},
     "output_type": "execute_result"
    }
   ],
   "source": [
    "[[7,4,1],\n",
    " [8,5,2],\n",
    " [9,6,3]]\n"
   ]
  },
  {
   "cell_type": "code",
   "execution_count": null,
   "id": "ced14890",
   "metadata": {},
   "outputs": [],
   "source": []
  },
  {
   "cell_type": "code",
   "execution_count": 558,
   "id": "adf505a9",
   "metadata": {},
   "outputs": [],
   "source": []
  },
  {
   "cell_type": "code",
   "execution_count": 502,
   "id": "fbfe5888",
   "metadata": {},
   "outputs": [
    {
     "name": "stdout",
     "output_type": "stream",
     "text": [
      "4\n",
      "1\n",
      "7\n",
      "5\n",
      "2\n",
      "8\n",
      "6\n",
      "3\n",
      "9\n"
     ]
    }
   ],
   "source": [
    "for i in range(len(matrix)):\n",
    "    for j in range(len(matrix)):\n",
    "        print(matrix[-j+1][i])\n",
    "#         rotated_matrix[i][j-1] = matrix[-j][i]\n",
    "#         print(matrix[-j][i])\n"
   ]
  },
  {
   "cell_type": "code",
   "execution_count": 487,
   "id": "72fbd550",
   "metadata": {},
   "outputs": [
    {
     "data": {
      "text/plain": [
       "[[7, 4, 7], [8, 5, 4], [9, 4, 7]]"
      ]
     },
     "execution_count": 487,
     "metadata": {},
     "output_type": "execute_result"
    }
   ],
   "source": [
    "rotated_matrix"
   ]
  },
  {
   "cell_type": "markdown",
   "id": "6ddaf6f3",
   "metadata": {},
   "source": [
    "# Count list"
   ]
  },
  {
   "cell_type": "code",
   "execution_count": 597,
   "id": "680c87b9",
   "metadata": {},
   "outputs": [
    {
     "data": {
      "text/plain": [
       "[0, 1, 1, 3, 4]"
      ]
     },
     "execution_count": 597,
     "metadata": {},
     "output_type": "execute_result"
    }
   ],
   "source": [
    "def countNumber(n, arr):\n",
    "    # Write your code here.\n",
    "    count = [0]*n\n",
    "    for i in range(n):\n",
    "        for item in arr:\n",
    "            if arr[i] > item:\n",
    "#                 print(item, end = '')\n",
    "\n",
    "                count[i]+=1\n",
    "    return count\n",
    "                \n",
    "countNumber(5,[-1, 2, 2, 3, 4])"
   ]
  },
  {
   "cell_type": "code",
   "execution_count": 588,
   "id": "00f2078d",
   "metadata": {},
   "outputs": [
    {
     "data": {
      "text/plain": [
       "[0, 0, 0, 0]"
      ]
     },
     "execution_count": 588,
     "metadata": {},
     "output_type": "execute_result"
    }
   ],
   "source": []
  },
  {
   "cell_type": "code",
   "execution_count": null,
   "id": "8ab4058b",
   "metadata": {},
   "outputs": [],
   "source": []
  },
  {
   "cell_type": "markdown",
   "id": "df4e103b",
   "metadata": {},
   "source": [
    "# Understanding the foundational concepts and algorithms in machine learning is crucial. This includes regression and classification algorithms, their assumptions, strengths, and limitations."
   ]
  },
  {
   "cell_type": "markdown",
   "id": "1f0a0f8b",
   "metadata": {},
   "source": [
    "# Shorten the string on the basis of their frequency lexographically"
   ]
  },
  {
   "cell_type": "markdown",
   "id": "52306182",
   "metadata": {},
   "source": [
    "# Best time to buy stock\n"
   ]
  },
  {
   "cell_type": "markdown",
   "id": "8dfb62f8",
   "metadata": {},
   "source": [
    "Smallest missing no."
   ]
  },
  {
   "cell_type": "code",
   "execution_count": 8,
   "id": "642826f0",
   "metadata": {
    "scrolled": true
   },
   "outputs": [
    {
     "name": "stdout",
     "output_type": "stream",
     "text": [
      "0\n"
     ]
    }
   ],
   "source": [
    "arr = [3, 4, -1, 1]\n",
    "arr.sort()\n",
    "\n",
    "for i in range(len(arr)):\n",
    "    try:\n",
    "        if arr[i]>=0:\n",
    "            if arr[i]!= 1:\n",
    "                print(1)\n",
    "                break\n",
    "\n",
    "        elif (arr[i] + 1) != (arr[i+1]):\n",
    "            print(arr[i] + 1)\n",
    "            break\n",
    "\n",
    "    except(IndexError):\n",
    "        print(arr[-1]+1)\n"
   ]
  },
  {
   "cell_type": "code",
   "execution_count": 15,
   "id": "c315109c",
   "metadata": {},
   "outputs": [],
   "source": [
    "import copy\n",
    "arr = [3, 4, -1, 1]\n",
    "temp_arr = copy.deepcopy(arr)"
   ]
  },
  {
   "cell_type": "code",
   "execution_count": 16,
   "id": "872c304d",
   "metadata": {},
   "outputs": [
    {
     "data": {
      "text/plain": [
       "[3, 4, -1, 1]"
      ]
     },
     "execution_count": 16,
     "metadata": {},
     "output_type": "execute_result"
    }
   ],
   "source": [
    "arr"
   ]
  },
  {
   "cell_type": "code",
   "execution_count": 20,
   "id": "3a76f432",
   "metadata": {},
   "outputs": [],
   "source": [
    "temp_arr.remove(3)"
   ]
  },
  {
   "cell_type": "code",
   "execution_count": 21,
   "id": "6566639a",
   "metadata": {},
   "outputs": [
    {
     "data": {
      "text/plain": [
       "[4, -1, 1]"
      ]
     },
     "execution_count": 21,
     "metadata": {},
     "output_type": "execute_result"
    }
   ],
   "source": [
    "temp_arr"
   ]
  },
  {
   "cell_type": "code",
   "execution_count": 1,
   "id": "e5eee544",
   "metadata": {},
   "outputs": [
    {
     "data": {
      "text/plain": [
       "1.0"
      ]
     },
     "execution_count": 1,
     "metadata": {},
     "output_type": "execute_result"
    }
   ],
   "source": [
    "import numpy as np\n",
    "np.prod([])"
   ]
  },
  {
   "cell_type": "code",
   "execution_count": 11,
   "id": "b901dbc2",
   "metadata": {},
   "outputs": [],
   "source": [
    "arr = [3, 4, -1, 1,1,1,3,3]\n"
   ]
  },
  {
   "cell_type": "code",
   "execution_count": 14,
   "id": "276c6642",
   "metadata": {},
   "outputs": [
    {
     "data": {
      "text/plain": [
       "2.0"
      ]
     },
     "execution_count": 14,
     "metadata": {},
     "output_type": "execute_result"
    }
   ],
   "source": [
    "import statistics\n",
    "statistics.median(arr)"
   ]
  },
  {
   "cell_type": "code",
   "execution_count": 15,
   "id": "7d07f2b8",
   "metadata": {},
   "outputs": [],
   "source": [
    "arr = [10, 4, 2, 5, 6, 3, 8, 1]\n"
   ]
  },
  {
   "cell_type": "code",
   "execution_count": 22,
   "id": "1528b9e6",
   "metadata": {},
   "outputs": [
    {
     "data": {
      "text/plain": [
       "16"
      ]
     },
     "execution_count": 22,
     "metadata": {},
     "output_type": "execute_result"
    }
   ],
   "source": [
    "sum(arr[0:3])"
   ]
  },
  {
   "cell_type": "code",
   "execution_count": 21,
   "id": "b3a48710",
   "metadata": {},
   "outputs": [
    {
     "data": {
      "text/plain": [
       "[10, 4, 2, 5]"
      ]
     },
     "execution_count": 21,
     "metadata": {},
     "output_type": "execute_result"
    }
   ],
   "source": [
    "for i in rang"
   ]
  },
  {
   "cell_type": "code",
   "execution_count": 23,
   "id": "8aae3d74",
   "metadata": {},
   "outputs": [],
   "source": [
    "arr.sort()"
   ]
  },
  {
   "cell_type": "code",
   "execution_count": 24,
   "id": "54e25484",
   "metadata": {},
   "outputs": [
    {
     "data": {
      "text/plain": [
       "[1, 2, 3, 4, 5, 6, 8, 10]"
      ]
     },
     "execution_count": 24,
     "metadata": {},
     "output_type": "execute_result"
    }
   ],
   "source": [
    "arr"
   ]
  },
  {
   "cell_type": "code",
   "execution_count": 25,
   "id": "2eda9485",
   "metadata": {},
   "outputs": [],
   "source": [
    "\n",
    "from sys import stdin\n",
    "import numpy as np\n",
    "import copy\n",
    "\n",
    "def getProductArrayExceptSelf(arr, n) :\n",
    "    prod_arr = []\n",
    "    for item in arr:\n",
    "        temp_arr = copy.deepcopy(arr)\n",
    "        temp_arr.remove(item)\n",
    "        prod_arr.append(np.prod(temp_arr))\n",
    "    return prod_arr\n"
   ]
  },
  {
   "cell_type": "code",
   "execution_count": 27,
   "id": "63f429d3",
   "metadata": {},
   "outputs": [
    {
     "data": {
      "text/plain": [
       "[4, 10, 10]"
      ]
     },
     "execution_count": 27,
     "metadata": {},
     "output_type": "execute_result"
    }
   ],
   "source": [
    "arr = [5,2,2]\n",
    "getProductArrayExceptSelf(arr,3)"
   ]
  },
  {
   "cell_type": "code",
   "execution_count": 65,
   "id": "0d27b247",
   "metadata": {},
   "outputs": [],
   "source": [
    "s = \"[()]{}{[(){]()]()}\"\n"
   ]
  },
  {
   "cell_type": "code",
   "execution_count": 66,
   "id": "a7e7190f",
   "metadata": {},
   "outputs": [],
   "source": [
    "# s = sorted(s)"
   ]
  },
  {
   "cell_type": "code",
   "execution_count": 67,
   "id": "3ba0617e",
   "metadata": {},
   "outputs": [],
   "source": [
    "set_str1 = set(s)"
   ]
  },
  {
   "cell_type": "code",
   "execution_count": 68,
   "id": "546bd848",
   "metadata": {},
   "outputs": [
    {
     "data": {
      "text/plain": [
       "{'(', ')', '[', ']', '{', '}'}"
      ]
     },
     "execution_count": 68,
     "metadata": {},
     "output_type": "execute_result"
    }
   ],
   "source": [
    "set_str1"
   ]
  },
  {
   "cell_type": "code",
   "execution_count": 69,
   "id": "c0bd0934",
   "metadata": {},
   "outputs": [],
   "source": [
    "ans = []\n",
    "for item in set_str1:\n",
    "    if s.count(item)%2 != 0:\n",
    "#         print(\"Not Balanced\")\n",
    "        ans.append(False)\n",
    "    else:\n",
    "        ans.append(True)\n"
   ]
  },
  {
   "cell_type": "code",
   "execution_count": 70,
   "id": "642d6025",
   "metadata": {},
   "outputs": [
    {
     "data": {
      "text/plain": [
       "[False, True, True, False, True, True]"
      ]
     },
     "execution_count": 70,
     "metadata": {},
     "output_type": "execute_result"
    }
   ],
   "source": [
    "ans"
   ]
  },
  {
   "cell_type": "code",
   "execution_count": 71,
   "id": "cb1d983b",
   "metadata": {},
   "outputs": [
    {
     "name": "stdout",
     "output_type": "stream",
     "text": [
      "NB\n"
     ]
    }
   ],
   "source": [
    "if False in ans:\n",
    "    print(\"NB\")\n",
    "else:\n",
    "    print(\"B\")"
   ]
  },
  {
   "cell_type": "code",
   "execution_count": 73,
   "id": "6363f740",
   "metadata": {},
   "outputs": [],
   "source": [
    "arr = [4, \"4.0O0\",-1.00,+4.54,\"SomeRandomStuff\"]\n"
   ]
  },
  {
   "cell_type": "code",
   "execution_count": 74,
   "id": "274054ee",
   "metadata": {},
   "outputs": [
    {
     "data": {
      "text/plain": [
       "[4, '4.0O0', -1.0, 4.54, 'SomeRandomStuff']"
      ]
     },
     "execution_count": 74,
     "metadata": {},
     "output_type": "execute_result"
    }
   ],
   "source": [
    "arr"
   ]
  },
  {
   "cell_type": "code",
   "execution_count": null,
   "id": "8ddabb9a",
   "metadata": {},
   "outputs": [],
   "source": [
    "for i in "
   ]
  }
 ],
 "metadata": {
  "kernelspec": {
   "display_name": "Python 3 (ipykernel)",
   "language": "python",
   "name": "python3"
  },
  "language_info": {
   "codemirror_mode": {
    "name": "ipython",
    "version": 3
   },
   "file_extension": ".py",
   "mimetype": "text/x-python",
   "name": "python",
   "nbconvert_exporter": "python",
   "pygments_lexer": "ipython3",
   "version": "3.8.10"
  }
 },
 "nbformat": 4,
 "nbformat_minor": 5
}
