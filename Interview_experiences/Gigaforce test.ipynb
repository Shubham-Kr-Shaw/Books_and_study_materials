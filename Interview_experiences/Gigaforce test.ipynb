{
 "cells": [
  {
   "cell_type": "markdown",
   "id": "5b04294b",
   "metadata": {},
   "source": [
    "# Round 1"
   ]
  },
  {
   "cell_type": "code",
   "execution_count": null,
   "id": "d59674b8",
   "metadata": {},
   "outputs": [],
   "source": [
    "num = 123456789"
   ]
  },
  {
   "cell_type": "code",
   "execution_count": 10,
   "id": "e1364a5e",
   "metadata": {},
   "outputs": [],
   "source": [
    "new_num = 0\n",
    "while num != 0:\n",
    "    new_num = new_num * 10 +num%10\n",
    "    num = num//10"
   ]
  },
  {
   "cell_type": "code",
   "execution_count": 11,
   "id": "bccb38e2",
   "metadata": {},
   "outputs": [
    {
     "data": {
      "text/plain": [
       "987654321"
      ]
     },
     "execution_count": 11,
     "metadata": {},
     "output_type": "execute_result"
    }
   ],
   "source": [
    "new_num"
   ]
  },
  {
   "cell_type": "code",
   "execution_count": 39,
   "id": "ae957d61",
   "metadata": {},
   "outputs": [],
   "source": [
    "word = 'listen'\n",
    "words = ['enlist', 'silent', 'inlets', 'cat', 'dog']"
   ]
  },
  {
   "cell_type": "code",
   "execution_count": 40,
   "id": "fa3c3299",
   "metadata": {},
   "outputs": [
    {
     "data": {
      "text/plain": [
       "['e', 'i', 'l', 'n', 's', 't']"
      ]
     },
     "execution_count": 40,
     "metadata": {},
     "output_type": "execute_result"
    }
   ],
   "source": [
    "sorted(word)"
   ]
  },
  {
   "cell_type": "code",
   "execution_count": 43,
   "id": "aa14a214",
   "metadata": {},
   "outputs": [],
   "source": [
    "from collections import Counter\n",
    "def are_anagram(str1, str2):\n",
    "    if (len(sorted(str1))) == (len(sorted(str2))):\n",
    "        print(str2)"
   ]
  },
  {
   "cell_type": "code",
   "execution_count": 44,
   "id": "2bef7fe4",
   "metadata": {},
   "outputs": [
    {
     "name": "stdout",
     "output_type": "stream",
     "text": [
      "enlist\n",
      "silent\n",
      "inlets\n"
     ]
    }
   ],
   "source": [
    "for item in words:\n",
    "    are_anagram(word, item)"
   ]
  },
  {
   "cell_type": "markdown",
   "id": "b8cb9578",
   "metadata": {},
   "source": [
    "# Round 2"
   ]
  },
  {
   "cell_type": "code",
   "execution_count": null,
   "id": "bdefa793",
   "metadata": {},
   "outputs": [],
   "source": []
  },
  {
   "cell_type": "code",
   "execution_count": null,
   "id": "87b0e58f",
   "metadata": {},
   "outputs": [],
   "source": []
  },
  {
   "cell_type": "code",
   "execution_count": null,
   "id": "d73251f3",
   "metadata": {},
   "outputs": [],
   "source": []
  },
  {
   "cell_type": "code",
   "execution_count": null,
   "id": "f2ddd7e6",
   "metadata": {},
   "outputs": [],
   "source": []
  },
  {
   "cell_type": "code",
   "execution_count": null,
   "id": "9179240e",
   "metadata": {},
   "outputs": [],
   "source": []
  },
  {
   "cell_type": "code",
   "execution_count": null,
   "id": "6a2d72cd",
   "metadata": {},
   "outputs": [],
   "source": []
  },
  {
   "cell_type": "code",
   "execution_count": null,
   "id": "a2769e21",
   "metadata": {},
   "outputs": [],
   "source": []
  }
 ],
 "metadata": {
  "kernelspec": {
   "display_name": "Python 3 (ipykernel)",
   "language": "python",
   "name": "python3"
  },
  "language_info": {
   "codemirror_mode": {
    "name": "ipython",
    "version": 3
   },
   "file_extension": ".py",
   "mimetype": "text/x-python",
   "name": "python",
   "nbconvert_exporter": "python",
   "pygments_lexer": "ipython3",
   "version": "3.8.10"
  }
 },
 "nbformat": 4,
 "nbformat_minor": 5
}
